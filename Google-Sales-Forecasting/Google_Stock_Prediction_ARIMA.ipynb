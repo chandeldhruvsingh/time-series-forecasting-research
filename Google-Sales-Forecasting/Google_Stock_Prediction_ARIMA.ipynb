{
 "cells": [
  {
   "cell_type": "code",
   "execution_count": 1,
   "metadata": {
    "application/vnd.databricks.v1+cell": {
     "cellMetadata": {
      "byteLimit": 2048000,
      "rowLimit": 10000
     },
     "inputWidgets": {},
     "nuid": "60de9ffe-1f4d-4c9d-8560-c2d434e71dc2",
     "showTitle": false,
     "title": ""
    }
   },
   "outputs": [
    {
     "name": "stdout",
     "output_type": "stream",
     "text": [
      "Defaulting to user installation because normal site-packages is not writeable\n",
      "Requirement already satisfied: statsmodels in /home/jupyter-dhruv/.local/lib/python3.9/site-packages (0.14.0)\n",
      "Requirement already satisfied: scipy!=1.9.2,>=1.4 in /home/jupyter-dhruv/.local/lib/python3.9/site-packages (from statsmodels) (1.11.2)\n",
      "Requirement already satisfied: packaging>=21.3 in /opt/tljh/user/lib/python3.9/site-packages (from statsmodels) (23.1)\n",
      "Requirement already satisfied: patsy>=0.5.2 in /home/jupyter-dhruv/.local/lib/python3.9/site-packages (from statsmodels) (0.5.3)\n",
      "Requirement already satisfied: pandas>=1.0 in /home/jupyter-dhruv/.local/lib/python3.9/site-packages (from statsmodels) (2.0.3)\n",
      "Requirement already satisfied: numpy>=1.18 in /home/jupyter-dhruv/.local/lib/python3.9/site-packages (from statsmodels) (1.25.0)\n",
      "Requirement already satisfied: pytz>=2020.1 in /home/jupyter-dhruv/.local/lib/python3.9/site-packages (from pandas>=1.0->statsmodels) (2023.3)\n",
      "Requirement already satisfied: python-dateutil>=2.8.2 in /opt/tljh/user/lib/python3.9/site-packages (from pandas>=1.0->statsmodels) (2.8.2)\n",
      "Requirement already satisfied: tzdata>=2022.1 in /home/jupyter-dhruv/.local/lib/python3.9/site-packages (from pandas>=1.0->statsmodels) (2023.3)\n",
      "Requirement already satisfied: six in /opt/tljh/user/lib/python3.9/site-packages (from patsy>=0.5.2->statsmodels) (1.16.0)\n"
     ]
    }
   ],
   "source": [
    "!pip install statsmodels"
   ]
  },
  {
   "cell_type": "code",
   "execution_count": 2,
   "metadata": {
    "application/vnd.databricks.v1+cell": {
     "cellMetadata": {
      "byteLimit": 2048000,
      "rowLimit": 10000
     },
     "inputWidgets": {},
     "nuid": "fa629fd6-2b62-419c-927b-41904b0344d7",
     "showTitle": false,
     "title": ""
    }
   },
   "outputs": [],
   "source": [
    "import numpy as np\n",
    "import pandas as pd\n",
    "import matplotlib.pyplot as plt\n",
    "import datetime\n",
    "from statsmodels.tsa.arima.model import ARIMA\n",
    "from sklearn.metrics import mean_squared_error\n",
    "from sklearn.metrics import mean_absolute_error\n",
    "from math import sqrt"
   ]
  },
  {
   "cell_type": "code",
   "execution_count": 3,
   "metadata": {
    "application/vnd.databricks.v1+cell": {
     "cellMetadata": {
      "byteLimit": 2048000,
      "rowLimit": 10000
     },
     "inputWidgets": {},
     "nuid": "b5fa747b-5968-4d97-a0f6-2ae1db573c72",
     "showTitle": false,
     "title": ""
    }
   },
   "outputs": [],
   "source": [
    "google_stock_df = pd.read_csv('google-stock-dataset-Daily.csv', index_col=False)\n",
    "google_stock_df = google_stock_df.drop(columns=['Unnamed: 0'])"
   ]
  },
  {
   "cell_type": "code",
   "execution_count": 4,
   "metadata": {},
   "outputs": [],
   "source": [
    "temp_df = google_stock_df.copy()"
   ]
  },
  {
   "cell_type": "code",
   "execution_count": 5,
   "metadata": {},
   "outputs": [],
   "source": [
    "temp_df['Date'] = pd.to_datetime(temp_df['Date'])\n",
    "temp_df.set_index('Date', inplace=True)"
   ]
  },
  {
   "cell_type": "code",
   "execution_count": 6,
   "metadata": {},
   "outputs": [],
   "source": [
    "# Split the data into training and testing sets\n",
    "train_size = int(len(temp_df) * 0.80)\n",
    "train_data, test_data = temp_df[:train_size], temp_df[train_size:]"
   ]
  },
  {
   "cell_type": "code",
   "execution_count": 7,
   "metadata": {},
   "outputs": [],
   "source": [
    "train_org_data, test_org_data = google_stock_df[:train_size], google_stock_df[train_size:]"
   ]
  },
  {
   "cell_type": "code",
   "execution_count": 8,
   "metadata": {},
   "outputs": [
    {
     "data": {
      "text/html": [
       "<div>\n",
       "<style scoped>\n",
       "    .dataframe tbody tr th:only-of-type {\n",
       "        vertical-align: middle;\n",
       "    }\n",
       "\n",
       "    .dataframe tbody tr th {\n",
       "        vertical-align: top;\n",
       "    }\n",
       "\n",
       "    .dataframe thead th {\n",
       "        text-align: right;\n",
       "    }\n",
       "</style>\n",
       "<table border=\"1\" class=\"dataframe\">\n",
       "  <thead>\n",
       "    <tr style=\"text-align: right;\">\n",
       "      <th></th>\n",
       "      <th>Date</th>\n",
       "      <th>Price</th>\n",
       "      <th>High</th>\n",
       "      <th>Low</th>\n",
       "      <th>Close</th>\n",
       "      <th>Volume</th>\n",
       "      <th>Adj Close</th>\n",
       "    </tr>\n",
       "  </thead>\n",
       "  <tbody>\n",
       "    <tr>\n",
       "      <th>2008</th>\n",
       "      <td>2021-04-06</td>\n",
       "      <td>110.55</td>\n",
       "      <td>111.40</td>\n",
       "      <td>110.09</td>\n",
       "      <td>110.46</td>\n",
       "      <td>35240000</td>\n",
       "      <td>110.46</td>\n",
       "    </tr>\n",
       "    <tr>\n",
       "      <th>2009</th>\n",
       "      <td>2021-04-07</td>\n",
       "      <td>110.65</td>\n",
       "      <td>112.22</td>\n",
       "      <td>110.65</td>\n",
       "      <td>111.95</td>\n",
       "      <td>24134000</td>\n",
       "      <td>111.95</td>\n",
       "    </tr>\n",
       "    <tr>\n",
       "      <th>2010</th>\n",
       "      <td>2021-04-08</td>\n",
       "      <td>113.20</td>\n",
       "      <td>113.59</td>\n",
       "      <td>112.15</td>\n",
       "      <td>112.52</td>\n",
       "      <td>28664000</td>\n",
       "      <td>112.52</td>\n",
       "    </tr>\n",
       "    <tr>\n",
       "      <th>2011</th>\n",
       "      <td>2021-04-09</td>\n",
       "      <td>112.27</td>\n",
       "      <td>113.70</td>\n",
       "      <td>111.86</td>\n",
       "      <td>113.53</td>\n",
       "      <td>26146000</td>\n",
       "      <td>113.53</td>\n",
       "    </tr>\n",
       "    <tr>\n",
       "      <th>2012</th>\n",
       "      <td>2021-04-12</td>\n",
       "      <td>112.71</td>\n",
       "      <td>112.84</td>\n",
       "      <td>111.39</td>\n",
       "      <td>112.23</td>\n",
       "      <td>25024000</td>\n",
       "      <td>112.23</td>\n",
       "    </tr>\n",
       "    <tr>\n",
       "      <th>...</th>\n",
       "      <td>...</td>\n",
       "      <td>...</td>\n",
       "      <td>...</td>\n",
       "      <td>...</td>\n",
       "      <td>...</td>\n",
       "      <td>...</td>\n",
       "      <td>...</td>\n",
       "    </tr>\n",
       "    <tr>\n",
       "      <th>2505</th>\n",
       "      <td>2023-03-27</td>\n",
       "      <td>104.62</td>\n",
       "      <td>104.76</td>\n",
       "      <td>101.93</td>\n",
       "      <td>102.46</td>\n",
       "      <td>31120900</td>\n",
       "      <td>102.46</td>\n",
       "    </tr>\n",
       "    <tr>\n",
       "      <th>2506</th>\n",
       "      <td>2023-03-28</td>\n",
       "      <td>102.44</td>\n",
       "      <td>102.45</td>\n",
       "      <td>99.74</td>\n",
       "      <td>101.03</td>\n",
       "      <td>32057900</td>\n",
       "      <td>101.03</td>\n",
       "    </tr>\n",
       "    <tr>\n",
       "      <th>2507</th>\n",
       "      <td>2023-03-29</td>\n",
       "      <td>102.28</td>\n",
       "      <td>102.49</td>\n",
       "      <td>100.65</td>\n",
       "      <td>101.39</td>\n",
       "      <td>28779600</td>\n",
       "      <td>101.39</td>\n",
       "    </tr>\n",
       "    <tr>\n",
       "      <th>2508</th>\n",
       "      <td>2023-03-30</td>\n",
       "      <td>100.91</td>\n",
       "      <td>101.16</td>\n",
       "      <td>99.78</td>\n",
       "      <td>100.89</td>\n",
       "      <td>33086200</td>\n",
       "      <td>100.89</td>\n",
       "    </tr>\n",
       "    <tr>\n",
       "      <th>2509</th>\n",
       "      <td>2023-03-31</td>\n",
       "      <td>101.30</td>\n",
       "      <td>103.89</td>\n",
       "      <td>101.04</td>\n",
       "      <td>103.73</td>\n",
       "      <td>36823200</td>\n",
       "      <td>103.73</td>\n",
       "    </tr>\n",
       "  </tbody>\n",
       "</table>\n",
       "<p>502 rows × 7 columns</p>\n",
       "</div>"
      ],
      "text/plain": [
       "            Date   Price    High     Low   Close    Volume  Adj Close\n",
       "2008  2021-04-06  110.55  111.40  110.09  110.46  35240000     110.46\n",
       "2009  2021-04-07  110.65  112.22  110.65  111.95  24134000     111.95\n",
       "2010  2021-04-08  113.20  113.59  112.15  112.52  28664000     112.52\n",
       "2011  2021-04-09  112.27  113.70  111.86  113.53  26146000     113.53\n",
       "2012  2021-04-12  112.71  112.84  111.39  112.23  25024000     112.23\n",
       "...          ...     ...     ...     ...     ...       ...        ...\n",
       "2505  2023-03-27  104.62  104.76  101.93  102.46  31120900     102.46\n",
       "2506  2023-03-28  102.44  102.45   99.74  101.03  32057900     101.03\n",
       "2507  2023-03-29  102.28  102.49  100.65  101.39  28779600     101.39\n",
       "2508  2023-03-30  100.91  101.16   99.78  100.89  33086200     100.89\n",
       "2509  2023-03-31  101.30  103.89  101.04  103.73  36823200     103.73\n",
       "\n",
       "[502 rows x 7 columns]"
      ]
     },
     "execution_count": 8,
     "metadata": {},
     "output_type": "execute_result"
    }
   ],
   "source": [
    "test_org_data"
   ]
  },
  {
   "cell_type": "code",
   "execution_count": 9,
   "metadata": {},
   "outputs": [
    {
     "data": {
      "text/html": [
       "<div>\n",
       "<style scoped>\n",
       "    .dataframe tbody tr th:only-of-type {\n",
       "        vertical-align: middle;\n",
       "    }\n",
       "\n",
       "    .dataframe tbody tr th {\n",
       "        vertical-align: top;\n",
       "    }\n",
       "\n",
       "    .dataframe thead th {\n",
       "        text-align: right;\n",
       "    }\n",
       "</style>\n",
       "<table border=\"1\" class=\"dataframe\">\n",
       "  <thead>\n",
       "    <tr style=\"text-align: right;\">\n",
       "      <th></th>\n",
       "      <th>Price</th>\n",
       "      <th>High</th>\n",
       "      <th>Low</th>\n",
       "      <th>Close</th>\n",
       "      <th>Volume</th>\n",
       "      <th>Adj Close</th>\n",
       "    </tr>\n",
       "    <tr>\n",
       "      <th>Date</th>\n",
       "      <th></th>\n",
       "      <th></th>\n",
       "      <th></th>\n",
       "      <th></th>\n",
       "      <th></th>\n",
       "      <th></th>\n",
       "    </tr>\n",
       "  </thead>\n",
       "  <tbody>\n",
       "    <tr>\n",
       "      <th>2021-04-06</th>\n",
       "      <td>110.55</td>\n",
       "      <td>111.40</td>\n",
       "      <td>110.09</td>\n",
       "      <td>110.46</td>\n",
       "      <td>35240000</td>\n",
       "      <td>110.46</td>\n",
       "    </tr>\n",
       "    <tr>\n",
       "      <th>2021-04-07</th>\n",
       "      <td>110.65</td>\n",
       "      <td>112.22</td>\n",
       "      <td>110.65</td>\n",
       "      <td>111.95</td>\n",
       "      <td>24134000</td>\n",
       "      <td>111.95</td>\n",
       "    </tr>\n",
       "    <tr>\n",
       "      <th>2021-04-08</th>\n",
       "      <td>113.20</td>\n",
       "      <td>113.59</td>\n",
       "      <td>112.15</td>\n",
       "      <td>112.52</td>\n",
       "      <td>28664000</td>\n",
       "      <td>112.52</td>\n",
       "    </tr>\n",
       "    <tr>\n",
       "      <th>2021-04-09</th>\n",
       "      <td>112.27</td>\n",
       "      <td>113.70</td>\n",
       "      <td>111.86</td>\n",
       "      <td>113.53</td>\n",
       "      <td>26146000</td>\n",
       "      <td>113.53</td>\n",
       "    </tr>\n",
       "    <tr>\n",
       "      <th>2021-04-12</th>\n",
       "      <td>112.71</td>\n",
       "      <td>112.84</td>\n",
       "      <td>111.39</td>\n",
       "      <td>112.23</td>\n",
       "      <td>25024000</td>\n",
       "      <td>112.23</td>\n",
       "    </tr>\n",
       "    <tr>\n",
       "      <th>...</th>\n",
       "      <td>...</td>\n",
       "      <td>...</td>\n",
       "      <td>...</td>\n",
       "      <td>...</td>\n",
       "      <td>...</td>\n",
       "      <td>...</td>\n",
       "    </tr>\n",
       "    <tr>\n",
       "      <th>2023-03-27</th>\n",
       "      <td>104.62</td>\n",
       "      <td>104.76</td>\n",
       "      <td>101.93</td>\n",
       "      <td>102.46</td>\n",
       "      <td>31120900</td>\n",
       "      <td>102.46</td>\n",
       "    </tr>\n",
       "    <tr>\n",
       "      <th>2023-03-28</th>\n",
       "      <td>102.44</td>\n",
       "      <td>102.45</td>\n",
       "      <td>99.74</td>\n",
       "      <td>101.03</td>\n",
       "      <td>32057900</td>\n",
       "      <td>101.03</td>\n",
       "    </tr>\n",
       "    <tr>\n",
       "      <th>2023-03-29</th>\n",
       "      <td>102.28</td>\n",
       "      <td>102.49</td>\n",
       "      <td>100.65</td>\n",
       "      <td>101.39</td>\n",
       "      <td>28779600</td>\n",
       "      <td>101.39</td>\n",
       "    </tr>\n",
       "    <tr>\n",
       "      <th>2023-03-30</th>\n",
       "      <td>100.91</td>\n",
       "      <td>101.16</td>\n",
       "      <td>99.78</td>\n",
       "      <td>100.89</td>\n",
       "      <td>33086200</td>\n",
       "      <td>100.89</td>\n",
       "    </tr>\n",
       "    <tr>\n",
       "      <th>2023-03-31</th>\n",
       "      <td>101.30</td>\n",
       "      <td>103.89</td>\n",
       "      <td>101.04</td>\n",
       "      <td>103.73</td>\n",
       "      <td>36823200</td>\n",
       "      <td>103.73</td>\n",
       "    </tr>\n",
       "  </tbody>\n",
       "</table>\n",
       "<p>502 rows × 6 columns</p>\n",
       "</div>"
      ],
      "text/plain": [
       "             Price    High     Low   Close    Volume  Adj Close\n",
       "Date                                                           \n",
       "2021-04-06  110.55  111.40  110.09  110.46  35240000     110.46\n",
       "2021-04-07  110.65  112.22  110.65  111.95  24134000     111.95\n",
       "2021-04-08  113.20  113.59  112.15  112.52  28664000     112.52\n",
       "2021-04-09  112.27  113.70  111.86  113.53  26146000     113.53\n",
       "2021-04-12  112.71  112.84  111.39  112.23  25024000     112.23\n",
       "...            ...     ...     ...     ...       ...        ...\n",
       "2023-03-27  104.62  104.76  101.93  102.46  31120900     102.46\n",
       "2023-03-28  102.44  102.45   99.74  101.03  32057900     101.03\n",
       "2023-03-29  102.28  102.49  100.65  101.39  28779600     101.39\n",
       "2023-03-30  100.91  101.16   99.78  100.89  33086200     100.89\n",
       "2023-03-31  101.30  103.89  101.04  103.73  36823200     103.73\n",
       "\n",
       "[502 rows x 6 columns]"
      ]
     },
     "execution_count": 9,
     "metadata": {},
     "output_type": "execute_result"
    }
   ],
   "source": [
    "test_data"
   ]
  },
  {
   "cell_type": "code",
   "execution_count": 10,
   "metadata": {},
   "outputs": [
    {
     "name": "stderr",
     "output_type": "stream",
     "text": [
      "/home/jupyter-dhruv/.local/lib/python3.9/site-packages/statsmodels/tsa/base/tsa_model.py:473: ValueWarning: A date index has been provided, but it has no associated frequency information and so will be ignored when e.g. forecasting.\n",
      "  self._init_dates(dates, freq)\n",
      "/home/jupyter-dhruv/.local/lib/python3.9/site-packages/statsmodels/tsa/base/tsa_model.py:473: ValueWarning: A date index has been provided, but it has no associated frequency information and so will be ignored when e.g. forecasting.\n",
      "  self._init_dates(dates, freq)\n",
      "/home/jupyter-dhruv/.local/lib/python3.9/site-packages/statsmodels/tsa/base/tsa_model.py:473: ValueWarning: A date index has been provided, but it has no associated frequency information and so will be ignored when e.g. forecasting.\n",
      "  self._init_dates(dates, freq)\n"
     ]
    }
   ],
   "source": [
    "# Define the ARIMA order (p, d, q)\n",
    "p, d, q = 7, 2, 4  # ARIMA hyperparameters\n",
    "\n",
    "# Fit ARIMA model on the entire dataset without exogenous variables\n",
    "model = ARIMA(train_data['Adj Close'], order=(p, d, q))\n",
    "model_fit = model.fit()"
   ]
  },
  {
   "cell_type": "code",
   "execution_count": 11,
   "metadata": {},
   "outputs": [
    {
     "name": "stderr",
     "output_type": "stream",
     "text": [
      "/home/jupyter-dhruv/.local/lib/python3.9/site-packages/statsmodels/tsa/base/tsa_model.py:836: ValueWarning: No supported index is available. Prediction results will be given with an integer index beginning at `start`.\n",
      "  return get_prediction_index(\n",
      "/home/jupyter-dhruv/.local/lib/python3.9/site-packages/statsmodels/tsa/base/tsa_model.py:836: FutureWarning: No supported index is available. In the next version, calling this method in a model without a supported index will result in an exception.\n",
      "  return get_prediction_index(\n"
     ]
    }
   ],
   "source": [
    "# Forecast the values for the next 502 days in the future\n",
    "forecast_periods = len(test_data)\n",
    "forecast_values = model_fit.forecast(steps=forecast_periods)"
   ]
  },
  {
   "cell_type": "code",
   "execution_count": 12,
   "metadata": {},
   "outputs": [],
   "source": [
    "org_train_data, org_test_data = google_stock_df[:train_size], temp_df[train_size:]"
   ]
  },
  {
   "cell_type": "code",
   "execution_count": 13,
   "metadata": {},
   "outputs": [
    {
     "data": {
      "text/html": [
       "<div>\n",
       "<style scoped>\n",
       "    .dataframe tbody tr th:only-of-type {\n",
       "        vertical-align: middle;\n",
       "    }\n",
       "\n",
       "    .dataframe tbody tr th {\n",
       "        vertical-align: top;\n",
       "    }\n",
       "\n",
       "    .dataframe thead th {\n",
       "        text-align: right;\n",
       "    }\n",
       "</style>\n",
       "<table border=\"1\" class=\"dataframe\">\n",
       "  <thead>\n",
       "    <tr style=\"text-align: right;\">\n",
       "      <th></th>\n",
       "      <th>Price</th>\n",
       "      <th>High</th>\n",
       "      <th>Low</th>\n",
       "      <th>Close</th>\n",
       "      <th>Volume</th>\n",
       "      <th>Adj Close</th>\n",
       "    </tr>\n",
       "    <tr>\n",
       "      <th>Date</th>\n",
       "      <th></th>\n",
       "      <th></th>\n",
       "      <th></th>\n",
       "      <th></th>\n",
       "      <th></th>\n",
       "      <th></th>\n",
       "    </tr>\n",
       "  </thead>\n",
       "  <tbody>\n",
       "    <tr>\n",
       "      <th>2021-04-06</th>\n",
       "      <td>110.55</td>\n",
       "      <td>111.40</td>\n",
       "      <td>110.09</td>\n",
       "      <td>110.46</td>\n",
       "      <td>35240000</td>\n",
       "      <td>110.46</td>\n",
       "    </tr>\n",
       "    <tr>\n",
       "      <th>2021-04-07</th>\n",
       "      <td>110.65</td>\n",
       "      <td>112.22</td>\n",
       "      <td>110.65</td>\n",
       "      <td>111.95</td>\n",
       "      <td>24134000</td>\n",
       "      <td>111.95</td>\n",
       "    </tr>\n",
       "    <tr>\n",
       "      <th>2021-04-08</th>\n",
       "      <td>113.20</td>\n",
       "      <td>113.59</td>\n",
       "      <td>112.15</td>\n",
       "      <td>112.52</td>\n",
       "      <td>28664000</td>\n",
       "      <td>112.52</td>\n",
       "    </tr>\n",
       "    <tr>\n",
       "      <th>2021-04-09</th>\n",
       "      <td>112.27</td>\n",
       "      <td>113.70</td>\n",
       "      <td>111.86</td>\n",
       "      <td>113.53</td>\n",
       "      <td>26146000</td>\n",
       "      <td>113.53</td>\n",
       "    </tr>\n",
       "    <tr>\n",
       "      <th>2021-04-12</th>\n",
       "      <td>112.71</td>\n",
       "      <td>112.84</td>\n",
       "      <td>111.39</td>\n",
       "      <td>112.23</td>\n",
       "      <td>25024000</td>\n",
       "      <td>112.23</td>\n",
       "    </tr>\n",
       "    <tr>\n",
       "      <th>...</th>\n",
       "      <td>...</td>\n",
       "      <td>...</td>\n",
       "      <td>...</td>\n",
       "      <td>...</td>\n",
       "      <td>...</td>\n",
       "      <td>...</td>\n",
       "    </tr>\n",
       "    <tr>\n",
       "      <th>2023-03-27</th>\n",
       "      <td>104.62</td>\n",
       "      <td>104.76</td>\n",
       "      <td>101.93</td>\n",
       "      <td>102.46</td>\n",
       "      <td>31120900</td>\n",
       "      <td>102.46</td>\n",
       "    </tr>\n",
       "    <tr>\n",
       "      <th>2023-03-28</th>\n",
       "      <td>102.44</td>\n",
       "      <td>102.45</td>\n",
       "      <td>99.74</td>\n",
       "      <td>101.03</td>\n",
       "      <td>32057900</td>\n",
       "      <td>101.03</td>\n",
       "    </tr>\n",
       "    <tr>\n",
       "      <th>2023-03-29</th>\n",
       "      <td>102.28</td>\n",
       "      <td>102.49</td>\n",
       "      <td>100.65</td>\n",
       "      <td>101.39</td>\n",
       "      <td>28779600</td>\n",
       "      <td>101.39</td>\n",
       "    </tr>\n",
       "    <tr>\n",
       "      <th>2023-03-30</th>\n",
       "      <td>100.91</td>\n",
       "      <td>101.16</td>\n",
       "      <td>99.78</td>\n",
       "      <td>100.89</td>\n",
       "      <td>33086200</td>\n",
       "      <td>100.89</td>\n",
       "    </tr>\n",
       "    <tr>\n",
       "      <th>2023-03-31</th>\n",
       "      <td>101.30</td>\n",
       "      <td>103.89</td>\n",
       "      <td>101.04</td>\n",
       "      <td>103.73</td>\n",
       "      <td>36823200</td>\n",
       "      <td>103.73</td>\n",
       "    </tr>\n",
       "  </tbody>\n",
       "</table>\n",
       "<p>502 rows × 6 columns</p>\n",
       "</div>"
      ],
      "text/plain": [
       "             Price    High     Low   Close    Volume  Adj Close\n",
       "Date                                                           \n",
       "2021-04-06  110.55  111.40  110.09  110.46  35240000     110.46\n",
       "2021-04-07  110.65  112.22  110.65  111.95  24134000     111.95\n",
       "2021-04-08  113.20  113.59  112.15  112.52  28664000     112.52\n",
       "2021-04-09  112.27  113.70  111.86  113.53  26146000     113.53\n",
       "2021-04-12  112.71  112.84  111.39  112.23  25024000     112.23\n",
       "...            ...     ...     ...     ...       ...        ...\n",
       "2023-03-27  104.62  104.76  101.93  102.46  31120900     102.46\n",
       "2023-03-28  102.44  102.45   99.74  101.03  32057900     101.03\n",
       "2023-03-29  102.28  102.49  100.65  101.39  28779600     101.39\n",
       "2023-03-30  100.91  101.16   99.78  100.89  33086200     100.89\n",
       "2023-03-31  101.30  103.89  101.04  103.73  36823200     103.73\n",
       "\n",
       "[502 rows x 6 columns]"
      ]
     },
     "execution_count": 13,
     "metadata": {},
     "output_type": "execute_result"
    }
   ],
   "source": [
    "org_test_data"
   ]
  },
  {
   "cell_type": "code",
   "execution_count": 14,
   "metadata": {},
   "outputs": [
    {
     "data": {
      "text/plain": [
       "2008    110.250175\n",
       "2009    110.660183\n",
       "2010    110.536216\n",
       "2011    110.456911\n",
       "2012    109.977068\n",
       "           ...    \n",
       "2505    132.320483\n",
       "2506    132.365745\n",
       "2507    132.411008\n",
       "2508    132.456271\n",
       "2509    132.501534\n",
       "Name: predicted_mean, Length: 502, dtype: float64"
      ]
     },
     "execution_count": 14,
     "metadata": {},
     "output_type": "execute_result"
    }
   ],
   "source": [
    "forecast_values"
   ]
  },
  {
   "cell_type": "code",
   "execution_count": 27,
   "metadata": {},
   "outputs": [],
   "source": [
    "forecast_dates = org_test_data.index"
   ]
  },
  {
   "cell_type": "code",
   "execution_count": 28,
   "metadata": {},
   "outputs": [
    {
     "data": {
      "text/plain": [
       "DatetimeIndex(['2021-04-06', '2021-04-07', '2021-04-08', '2021-04-09',\n",
       "               '2021-04-12', '2021-04-13', '2021-04-14', '2021-04-15',\n",
       "               '2021-04-16', '2021-04-19',\n",
       "               ...\n",
       "               '2023-03-20', '2023-03-21', '2023-03-22', '2023-03-23',\n",
       "               '2023-03-24', '2023-03-27', '2023-03-28', '2023-03-29',\n",
       "               '2023-03-30', '2023-03-31'],\n",
       "              dtype='datetime64[ns]', name='Date', length=502, freq=None)"
      ]
     },
     "execution_count": 28,
     "metadata": {},
     "output_type": "execute_result"
    }
   ],
   "source": [
    "forecast_dates"
   ]
  },
  {
   "cell_type": "code",
   "execution_count": 20,
   "metadata": {},
   "outputs": [
    {
     "data": {
      "text/plain": [
       "Date\n",
       "2021-04-06    110.46\n",
       "2021-04-07    111.95\n",
       "2021-04-08    112.52\n",
       "2021-04-09    113.53\n",
       "2021-04-12    112.23\n",
       "               ...  \n",
       "2023-03-27    102.46\n",
       "2023-03-28    101.03\n",
       "2023-03-29    101.39\n",
       "2023-03-30    100.89\n",
       "2023-03-31    103.73\n",
       "Name: Adj Close, Length: 502, dtype: float64"
      ]
     },
     "execution_count": 20,
     "metadata": {},
     "output_type": "execute_result"
    }
   ],
   "source": [
    "test_data['Adj Close']"
   ]
  },
  {
   "cell_type": "code",
   "execution_count": 19,
   "metadata": {},
   "outputs": [
    {
     "data": {
      "text/plain": [
       "2008    110.250175\n",
       "2009    110.660183\n",
       "2010    110.536216\n",
       "2011    110.456911\n",
       "2012    109.977068\n",
       "           ...    \n",
       "2505    132.320483\n",
       "2506    132.365745\n",
       "2507    132.411008\n",
       "2508    132.456271\n",
       "2509    132.501534\n",
       "Name: predicted_mean, Length: 502, dtype: float64"
      ]
     },
     "execution_count": 19,
     "metadata": {},
     "output_type": "execute_result"
    }
   ],
   "source": [
    "forecast_values"
   ]
  },
  {
   "cell_type": "code",
   "execution_count": 30,
   "metadata": {},
   "outputs": [],
   "source": [
    "# Create a DataFrame for the actual and predicted values\n",
    "forecast_df = pd.DataFrame({'Date': forecast_dates, 'Actual Price': test_data['Adj Close'].values, 'Predicted Price': forecast_values})\n",
    "forecast_df.reset_index(drop=True, inplace=True)"
   ]
  },
  {
   "cell_type": "code",
   "execution_count": 31,
   "metadata": {},
   "outputs": [
    {
     "name": "stdout",
     "output_type": "stream",
     "text": [
      "          Date  Actual Price  Predicted Price\n",
      "0   2021-04-06        110.46       110.250175\n",
      "1   2021-04-07        111.95       110.660183\n",
      "2   2021-04-08        112.52       110.536216\n",
      "3   2021-04-09        113.53       110.456911\n",
      "4   2021-04-12        112.23       109.977068\n",
      "..         ...           ...              ...\n",
      "497 2023-03-27        102.46       132.320483\n",
      "498 2023-03-28        101.03       132.365745\n",
      "499 2023-03-29        101.39       132.411008\n",
      "500 2023-03-30        100.89       132.456271\n",
      "501 2023-03-31        103.73       132.501534\n",
      "\n",
      "[502 rows x 3 columns]\n"
     ]
    }
   ],
   "source": [
    "# Print or use the forecast_df as needed\n",
    "print(forecast_df)"
   ]
  },
  {
   "cell_type": "code",
   "execution_count": 32,
   "metadata": {
    "application/vnd.databricks.v1+cell": {
     "cellMetadata": {
      "byteLimit": 2048000,
      "rowLimit": 10000
     },
     "inputWidgets": {},
     "nuid": "82f64885-6730-4cfe-acc0-7b9a6495dc97",
     "showTitle": false,
     "title": ""
    }
   },
   "outputs": [],
   "source": [
    "def evaluate(predictions):\n",
    "    print(\"MSE\",round(mean_squared_error(predictions['Actual Price'], predictions['Predicted Price']), 3))\n",
    "    print(\"RMSE\",round(np.sqrt(mean_squared_error(predictions['Actual Price'], predictions['Predicted Price'])), 3))\n",
    "    print(\"MAE\",round(mean_absolute_error(predictions['Actual Price'], predictions['Predicted Price']), 3))"
   ]
  },
  {
   "cell_type": "code",
   "execution_count": 33,
   "metadata": {},
   "outputs": [
    {
     "name": "stdout",
     "output_type": "stream",
     "text": [
      "MSE 549.547\n",
      "RMSE 23.442\n",
      "MAE 20.549\n"
     ]
    }
   ],
   "source": [
    "evaluate(forecast_df)"
   ]
  },
  {
   "cell_type": "code",
   "execution_count": 34,
   "metadata": {},
   "outputs": [
    {
     "data": {
      "image/png": "[encoded data removed]",
      "text/plain": [
       "<Figure size 1200x600 with 1 Axes>"
      ]
     },
     "metadata": {},
     "output_type": "display_data"
    }
   ],
   "source": [
    "# Create a line graph\n",
    "plt.figure(figsize=(12, 6))\n",
    "plt.plot(forecast_df['Date'], forecast_df['Actual Price'], label='Actual Price', marker='o', linestyle='-', color='blue')\n",
    "plt.plot(forecast_df['Date'], forecast_df['Predicted Price'], label='Predicted Price', marker='x', linestyle='--', color='red')\n",
    "plt.xlabel('Date')\n",
    "plt.ylabel('Price')\n",
    "plt.title('Actual vs. Predicted Prices')\n",
    "plt.legend()\n",
    "plt.grid(True)\n",
    "plt.tight_layout()\n",
    "\n",
    "# Show the graph (you can also save it as an image using plt.savefig)\n",
    "plt.show()"
   ]
  },
  {
   "cell_type": "code",
   "execution_count": null,
   "metadata": {},
   "outputs": [],
   "source": []
  }
 ],
 "metadata": {
  "application/vnd.databricks.v1+notebook": {
   "dashboards": [],
   "language": "python",
   "notebookMetadata": {
    "mostRecentlyExecutedCommandWithImplicitDF": {
     "commandId": 237863954737316,
     "dataframes": [
      "_sqldf"
     ]
    },
    "pythonIndentUnit": 4
   },
   "notebookName": "Google_Stock_Prediction_4.0",
   "widgets": {}
  },
  "kernelspec": {
   "display_name": "Python 3 (ipykernel)",
   "language": "python",
   "name": "python3"
  },
  "language_info": {
   "codemirror_mode": {
    "name": "ipython",
    "version": 3
   },
   "file_extension": ".py",
   "mimetype": "text/x-python",
   "name": "python",
   "nbconvert_exporter": "python",
   "pygments_lexer": "ipython3",
   "version": "3.9.7"
  }
 },
 "nbformat": 4,
 "nbformat_minor": 1
}
