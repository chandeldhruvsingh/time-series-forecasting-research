{
 "cells": [
  {
   "cell_type": "code",
   "execution_count": null,
   "metadata": {
    "application/vnd.databricks.v1+cell": {
     "cellMetadata": {
      "byteLimit": 2048000,
      "rowLimit": 10000
     },
     "inputWidgets": {},
     "nuid": "60de9ffe-1f4d-4c9d-8560-c2d434e71dc2",
     "showTitle": false,
     "title": ""
    }
   },
   "outputs": [],
   "source": [
    "!pip install pystan==2.19.1.1 prophet"
   ]
  },
  {
   "cell_type": "code",
   "execution_count": 1,
   "metadata": {
    "application/vnd.databricks.v1+cell": {
     "cellMetadata": {
      "byteLimit": 2048000,
      "rowLimit": 10000
     },
     "inputWidgets": {},
     "nuid": "fa629fd6-2b62-419c-927b-41904b0344d7",
     "showTitle": false,
     "title": ""
    }
   },
   "outputs": [],
   "source": [
    "import pandas as pd\n",
    "import matplotlib.pyplot as plt\n",
    "from sklearn.model_selection import train_test_split\n",
    "from sklearn.linear_model import LinearRegression\n",
    "from sklearn.metrics import mean_absolute_error, mean_squared_error\n",
    "import numpy as np\n",
    "from prophet import Prophet\n",
    "#from hyperopt import fmin, tpe, hp, Trials, rand"
   ]
  },
  {
   "cell_type": "code",
   "execution_count": 2,
   "metadata": {
    "application/vnd.databricks.v1+cell": {
     "cellMetadata": {
      "byteLimit": 2048000,
      "rowLimit": 10000
     },
     "inputWidgets": {},
     "nuid": "b5fa747b-5968-4d97-a0f6-2ae1db573c72",
     "showTitle": false,
     "title": ""
    }
   },
   "outputs": [],
   "source": [
    "google_stock_df = pd.read_csv('data/google-stock-dataset-Daily.csv', index_col=False)\n",
    "google_stock_df = google_stock_df.drop(columns=['Unnamed: 0'])"
   ]
  },
  {
   "cell_type": "code",
   "execution_count": 3,
   "metadata": {
    "application/vnd.databricks.v1+cell": {
     "cellMetadata": {
      "byteLimit": 2048000,
      "rowLimit": 10000
     },
     "inputWidgets": {},
     "nuid": "bba979e0-2474-4fb6-8e5a-67956a5de5c5",
     "showTitle": false,
     "title": ""
    }
   },
   "outputs": [],
   "source": [
    "google_stock_df.rename(columns={'Date': 'ds', 'Adj Close': 'y'}, inplace=True)"
   ]
  },
  {
   "cell_type": "code",
   "execution_count": 4,
   "metadata": {},
   "outputs": [
    {
     "data": {
      "text/html": [
       "<div>\n",
       "<style scoped>\n",
       "    .dataframe tbody tr th:only-of-type {\n",
       "        vertical-align: middle;\n",
       "    }\n",
       "\n",
       "    .dataframe tbody tr th {\n",
       "        vertical-align: top;\n",
       "    }\n",
       "\n",
       "    .dataframe thead th {\n",
       "        text-align: right;\n",
       "    }\n",
       "</style>\n",
       "<table border=\"1\" class=\"dataframe\">\n",
       "  <thead>\n",
       "    <tr style=\"text-align: right;\">\n",
       "      <th></th>\n",
       "      <th>ds</th>\n",
       "      <th>Price</th>\n",
       "      <th>High</th>\n",
       "      <th>Low</th>\n",
       "      <th>Close</th>\n",
       "      <th>Volume</th>\n",
       "      <th>y</th>\n",
       "    </tr>\n",
       "  </thead>\n",
       "  <tbody>\n",
       "    <tr>\n",
       "      <th>0</th>\n",
       "      <td>2013-04-15</td>\n",
       "      <td>19.67</td>\n",
       "      <td>19.94</td>\n",
       "      <td>19.44</td>\n",
       "      <td>19.57</td>\n",
       "      <td>98025876</td>\n",
       "      <td>19.57</td>\n",
       "    </tr>\n",
       "    <tr>\n",
       "      <th>1</th>\n",
       "      <td>2013-04-16</td>\n",
       "      <td>19.68</td>\n",
       "      <td>19.92</td>\n",
       "      <td>19.62</td>\n",
       "      <td>19.85</td>\n",
       "      <td>69610320</td>\n",
       "      <td>19.85</td>\n",
       "    </tr>\n",
       "    <tr>\n",
       "      <th>2</th>\n",
       "      <td>2013-04-17</td>\n",
       "      <td>19.69</td>\n",
       "      <td>19.79</td>\n",
       "      <td>19.47</td>\n",
       "      <td>19.58</td>\n",
       "      <td>81398520</td>\n",
       "      <td>19.58</td>\n",
       "    </tr>\n",
       "    <tr>\n",
       "      <th>3</th>\n",
       "      <td>2013-04-18</td>\n",
       "      <td>19.65</td>\n",
       "      <td>19.66</td>\n",
       "      <td>19.05</td>\n",
       "      <td>19.17</td>\n",
       "      <td>132767100</td>\n",
       "      <td>19.17</td>\n",
       "    </tr>\n",
       "    <tr>\n",
       "      <th>4</th>\n",
       "      <td>2013-04-19</td>\n",
       "      <td>19.25</td>\n",
       "      <td>20.11</td>\n",
       "      <td>19.18</td>\n",
       "      <td>20.02</td>\n",
       "      <td>231895872</td>\n",
       "      <td>20.02</td>\n",
       "    </tr>\n",
       "    <tr>\n",
       "      <th>...</th>\n",
       "      <td>...</td>\n",
       "      <td>...</td>\n",
       "      <td>...</td>\n",
       "      <td>...</td>\n",
       "      <td>...</td>\n",
       "      <td>...</td>\n",
       "      <td>...</td>\n",
       "    </tr>\n",
       "    <tr>\n",
       "      <th>2505</th>\n",
       "      <td>2023-03-27</td>\n",
       "      <td>104.62</td>\n",
       "      <td>104.76</td>\n",
       "      <td>101.93</td>\n",
       "      <td>102.46</td>\n",
       "      <td>31120900</td>\n",
       "      <td>102.46</td>\n",
       "    </tr>\n",
       "    <tr>\n",
       "      <th>2506</th>\n",
       "      <td>2023-03-28</td>\n",
       "      <td>102.44</td>\n",
       "      <td>102.45</td>\n",
       "      <td>99.74</td>\n",
       "      <td>101.03</td>\n",
       "      <td>32057900</td>\n",
       "      <td>101.03</td>\n",
       "    </tr>\n",
       "    <tr>\n",
       "      <th>2507</th>\n",
       "      <td>2023-03-29</td>\n",
       "      <td>102.28</td>\n",
       "      <td>102.49</td>\n",
       "      <td>100.65</td>\n",
       "      <td>101.39</td>\n",
       "      <td>28779600</td>\n",
       "      <td>101.39</td>\n",
       "    </tr>\n",
       "    <tr>\n",
       "      <th>2508</th>\n",
       "      <td>2023-03-30</td>\n",
       "      <td>100.91</td>\n",
       "      <td>101.16</td>\n",
       "      <td>99.78</td>\n",
       "      <td>100.89</td>\n",
       "      <td>33086200</td>\n",
       "      <td>100.89</td>\n",
       "    </tr>\n",
       "    <tr>\n",
       "      <th>2509</th>\n",
       "      <td>2023-03-31</td>\n",
       "      <td>101.30</td>\n",
       "      <td>103.89</td>\n",
       "      <td>101.04</td>\n",
       "      <td>103.73</td>\n",
       "      <td>36823200</td>\n",
       "      <td>103.73</td>\n",
       "    </tr>\n",
       "  </tbody>\n",
       "</table>\n",
       "<p>2510 rows × 7 columns</p>\n",
       "</div>"
      ],
      "text/plain": [
       "              ds   Price    High     Low   Close     Volume       y\n",
       "0     2013-04-15   19.67   19.94   19.44   19.57   98025876   19.57\n",
       "1     2013-04-16   19.68   19.92   19.62   19.85   69610320   19.85\n",
       "2     2013-04-17   19.69   19.79   19.47   19.58   81398520   19.58\n",
       "3     2013-04-18   19.65   19.66   19.05   19.17  132767100   19.17\n",
       "4     2013-04-19   19.25   20.11   19.18   20.02  231895872   20.02\n",
       "...          ...     ...     ...     ...     ...        ...     ...\n",
       "2505  2023-03-27  104.62  104.76  101.93  102.46   31120900  102.46\n",
       "2506  2023-03-28  102.44  102.45   99.74  101.03   32057900  101.03\n",
       "2507  2023-03-29  102.28  102.49  100.65  101.39   28779600  101.39\n",
       "2508  2023-03-30  100.91  101.16   99.78  100.89   33086200  100.89\n",
       "2509  2023-03-31  101.30  103.89  101.04  103.73   36823200  103.73\n",
       "\n",
       "[2510 rows x 7 columns]"
      ]
     },
     "execution_count": 4,
     "metadata": {},
     "output_type": "execute_result"
    }
   ],
   "source": [
    "google_stock_df"
   ]
  },
  {
   "cell_type": "code",
   "execution_count": 5,
   "metadata": {},
   "outputs": [],
   "source": [
    "\n",
    "# Define the percentage of data for training (e.g., 80%)\n",
    "train_percentage = 0.8\n",
    "\n",
    "# Calculate the number of rows for training and testing\n",
    "total_rows = len(google_stock_df)\n",
    "train_rows = int(train_percentage * total_rows)\n",
    "test_rows = total_rows - train_rows\n",
    "\n",
    "# Split the dataset into training and testing sets\n",
    "train_data = google_stock_df.iloc[:train_rows]\n",
    "test_data = google_stock_df.iloc[train_rows:]"
   ]
  },
  {
   "cell_type": "code",
   "execution_count": 6,
   "metadata": {},
   "outputs": [
    {
     "data": {
      "text/plain": [
       "2008"
      ]
     },
     "execution_count": 6,
     "metadata": {},
     "output_type": "execute_result"
    }
   ],
   "source": [
    "len(train_data)"
   ]
  },
  {
   "cell_type": "code",
   "execution_count": 7,
   "metadata": {},
   "outputs": [
    {
     "data": {
      "text/plain": [
       "pandas.core.frame.DataFrame"
      ]
     },
     "execution_count": 7,
     "metadata": {},
     "output_type": "execute_result"
    }
   ],
   "source": [
    "len(test_data)\n",
    "type(test_data)"
   ]
  },
  {
   "cell_type": "code",
   "execution_count": 8,
   "metadata": {},
   "outputs": [],
   "source": [
    "comparison_df = test_data.copy()"
   ]
  },
  {
   "cell_type": "code",
   "execution_count": 9,
   "metadata": {},
   "outputs": [],
   "source": [
    "comparison_df = comparison_df.drop(columns=['Price', 'High', 'Low', 'Close', 'Volume'])"
   ]
  },
  {
   "cell_type": "code",
   "execution_count": 10,
   "metadata": {},
   "outputs": [],
   "source": [
    "comparison_df.rename(columns={'ds': 'Date', 'y': 'Actual Price'}, inplace=True)"
   ]
  },
  {
   "cell_type": "code",
   "execution_count": 11,
   "metadata": {},
   "outputs": [
    {
     "data": {
      "text/html": [
       "<div>\n",
       "<style scoped>\n",
       "    .dataframe tbody tr th:only-of-type {\n",
       "        vertical-align: middle;\n",
       "    }\n",
       "\n",
       "    .dataframe tbody tr th {\n",
       "        vertical-align: top;\n",
       "    }\n",
       "\n",
       "    .dataframe thead th {\n",
       "        text-align: right;\n",
       "    }\n",
       "</style>\n",
       "<table border=\"1\" class=\"dataframe\">\n",
       "  <thead>\n",
       "    <tr style=\"text-align: right;\">\n",
       "      <th></th>\n",
       "      <th>Date</th>\n",
       "      <th>Actual Price</th>\n",
       "    </tr>\n",
       "  </thead>\n",
       "  <tbody>\n",
       "    <tr>\n",
       "      <th>2008</th>\n",
       "      <td>2021-04-06</td>\n",
       "      <td>110.46</td>\n",
       "    </tr>\n",
       "    <tr>\n",
       "      <th>2009</th>\n",
       "      <td>2021-04-07</td>\n",
       "      <td>111.95</td>\n",
       "    </tr>\n",
       "    <tr>\n",
       "      <th>2010</th>\n",
       "      <td>2021-04-08</td>\n",
       "      <td>112.52</td>\n",
       "    </tr>\n",
       "    <tr>\n",
       "      <th>2011</th>\n",
       "      <td>2021-04-09</td>\n",
       "      <td>113.53</td>\n",
       "    </tr>\n",
       "    <tr>\n",
       "      <th>2012</th>\n",
       "      <td>2021-04-12</td>\n",
       "      <td>112.23</td>\n",
       "    </tr>\n",
       "    <tr>\n",
       "      <th>...</th>\n",
       "      <td>...</td>\n",
       "      <td>...</td>\n",
       "    </tr>\n",
       "    <tr>\n",
       "      <th>2505</th>\n",
       "      <td>2023-03-27</td>\n",
       "      <td>102.46</td>\n",
       "    </tr>\n",
       "    <tr>\n",
       "      <th>2506</th>\n",
       "      <td>2023-03-28</td>\n",
       "      <td>101.03</td>\n",
       "    </tr>\n",
       "    <tr>\n",
       "      <th>2507</th>\n",
       "      <td>2023-03-29</td>\n",
       "      <td>101.39</td>\n",
       "    </tr>\n",
       "    <tr>\n",
       "      <th>2508</th>\n",
       "      <td>2023-03-30</td>\n",
       "      <td>100.89</td>\n",
       "    </tr>\n",
       "    <tr>\n",
       "      <th>2509</th>\n",
       "      <td>2023-03-31</td>\n",
       "      <td>103.73</td>\n",
       "    </tr>\n",
       "  </tbody>\n",
       "</table>\n",
       "<p>502 rows × 2 columns</p>\n",
       "</div>"
      ],
      "text/plain": [
       "            Date  Actual Price\n",
       "2008  2021-04-06        110.46\n",
       "2009  2021-04-07        111.95\n",
       "2010  2021-04-08        112.52\n",
       "2011  2021-04-09        113.53\n",
       "2012  2021-04-12        112.23\n",
       "...          ...           ...\n",
       "2505  2023-03-27        102.46\n",
       "2506  2023-03-28        101.03\n",
       "2507  2023-03-29        101.39\n",
       "2508  2023-03-30        100.89\n",
       "2509  2023-03-31        103.73\n",
       "\n",
       "[502 rows x 2 columns]"
      ]
     },
     "execution_count": 11,
     "metadata": {},
     "output_type": "execute_result"
    }
   ],
   "source": [
    "comparison_df"
   ]
  },
  {
   "cell_type": "code",
   "execution_count": 12,
   "metadata": {},
   "outputs": [],
   "source": [
    "# Specify weekends as holidays\n",
    "weekend_holidays = pd.DataFrame({\n",
    "  'holiday': 'weekend',\n",
    "  'ds': pd.date_range(start='2021-04-06', end='2023-03-31', freq='W-SAT')  # Generate a range of Saturdays\n",
    "})\n"
   ]
  },
  {
   "cell_type": "code",
   "execution_count": 13,
   "metadata": {},
   "outputs": [
    {
     "name": "stderr",
     "output_type": "stream",
     "text": [
      "12:32:35 - cmdstanpy - INFO - Chain [1] start processing\n",
      "12:32:35 - cmdstanpy - INFO - Chain [1] done processing\n"
     ]
    }
   ],
   "source": [
    "# Initialize the Prophet Model\n",
    "model_prophet = Prophet()\n",
    "model_prophet.add_country_holidays(country_name='US')\n",
    "model_prophet.fit(train_data)\n",
    "\n",
    "# Create a dataframe for future predictions\n",
    "future = model_prophet.make_future_dataframe(periods=502)  # Predict for one year into the future\n",
    "\n",
    "# Make predictions\n",
    "forecast = model_prophet.predict(future)"
   ]
  },
  {
   "cell_type": "code",
   "execution_count": 14,
   "metadata": {},
   "outputs": [],
   "source": [
    "predicted_value = forecast['yhat'].tail(502)\n",
    "predicted_value_df = predicted_value.to_frame()"
   ]
  },
  {
   "cell_type": "code",
   "execution_count": 15,
   "metadata": {},
   "outputs": [],
   "source": [
    "comparison_df['Predicted Price'] = predicted_value_df"
   ]
  },
  {
   "cell_type": "code",
   "execution_count": 17,
   "metadata": {
    "application/vnd.databricks.v1+cell": {
     "cellMetadata": {
      "byteLimit": 2048000,
      "rowLimit": 10000
     },
     "inputWidgets": {},
     "nuid": "82f64885-6730-4cfe-acc0-7b9a6495dc97",
     "showTitle": false,
     "title": ""
    }
   },
   "outputs": [],
   "source": [
    "def evaluate(predictions):\n",
    "    print(\"MSE\",round(mean_squared_error(predictions['Actual Price'], predictions['Predicted Price']), 3))\n",
    "    print(\"RMSE\",round(np.sqrt(mean_squared_error(predictions['Actual Price'], predictions['Predicted Price'])), 3))\n",
    "    print(\"MAE\",round(mean_absolute_error(predictions['Actual Price'], predictions['Predicted Price']), 3))"
   ]
  },
  {
   "cell_type": "code",
   "execution_count": 18,
   "metadata": {},
   "outputs": [
    {
     "name": "stdout",
     "output_type": "stream",
     "text": [
      "MSE 737.017\n",
      "RMSE 27.148\n",
      "MAE 24.207\n"
     ]
    }
   ],
   "source": [
    "evaluate(comparison_df)"
   ]
  },
  {
   "cell_type": "code",
   "execution_count": 24,
   "metadata": {},
   "outputs": [],
   "source": [
    "\n",
    "comparison_df = comparison_df.reset_index(drop=True)"
   ]
  },
  {
   "cell_type": "code",
   "execution_count": 25,
   "metadata": {},
   "outputs": [
    {
     "data": {
      "text/html": [
       "<div>\n",
       "<style scoped>\n",
       "    .dataframe tbody tr th:only-of-type {\n",
       "        vertical-align: middle;\n",
       "    }\n",
       "\n",
       "    .dataframe tbody tr th {\n",
       "        vertical-align: top;\n",
       "    }\n",
       "\n",
       "    .dataframe thead th {\n",
       "        text-align: right;\n",
       "    }\n",
       "</style>\n",
       "<table border=\"1\" class=\"dataframe\">\n",
       "  <thead>\n",
       "    <tr style=\"text-align: right;\">\n",
       "      <th></th>\n",
       "      <th>Date</th>\n",
       "      <th>Actual Price</th>\n",
       "      <th>Predicted Price</th>\n",
       "    </tr>\n",
       "  </thead>\n",
       "  <tbody>\n",
       "    <tr>\n",
       "      <th>0</th>\n",
       "      <td>2021-04-06</td>\n",
       "      <td>110.46</td>\n",
       "      <td>93.324397</td>\n",
       "    </tr>\n",
       "    <tr>\n",
       "      <th>1</th>\n",
       "      <td>2021-04-07</td>\n",
       "      <td>111.95</td>\n",
       "      <td>93.385392</td>\n",
       "    </tr>\n",
       "    <tr>\n",
       "      <th>2</th>\n",
       "      <td>2021-04-08</td>\n",
       "      <td>112.52</td>\n",
       "      <td>93.420315</td>\n",
       "    </tr>\n",
       "    <tr>\n",
       "      <th>3</th>\n",
       "      <td>2021-04-09</td>\n",
       "      <td>113.53</td>\n",
       "      <td>93.416800</td>\n",
       "    </tr>\n",
       "    <tr>\n",
       "      <th>4</th>\n",
       "      <td>2021-04-12</td>\n",
       "      <td>112.23</td>\n",
       "      <td>92.533140</td>\n",
       "    </tr>\n",
       "    <tr>\n",
       "      <th>...</th>\n",
       "      <td>...</td>\n",
       "      <td>...</td>\n",
       "      <td>...</td>\n",
       "    </tr>\n",
       "    <tr>\n",
       "      <th>497</th>\n",
       "      <td>2023-03-27</td>\n",
       "      <td>102.46</td>\n",
       "      <td>127.222553</td>\n",
       "    </tr>\n",
       "    <tr>\n",
       "      <th>498</th>\n",
       "      <td>2023-03-28</td>\n",
       "      <td>101.03</td>\n",
       "      <td>127.332245</td>\n",
       "    </tr>\n",
       "    <tr>\n",
       "      <th>499</th>\n",
       "      <td>2023-03-29</td>\n",
       "      <td>101.39</td>\n",
       "      <td>127.416820</td>\n",
       "    </tr>\n",
       "    <tr>\n",
       "      <th>500</th>\n",
       "      <td>2023-03-30</td>\n",
       "      <td>100.89</td>\n",
       "      <td>127.462796</td>\n",
       "    </tr>\n",
       "    <tr>\n",
       "      <th>501</th>\n",
       "      <td>2023-03-31</td>\n",
       "      <td>103.73</td>\n",
       "      <td>126.627246</td>\n",
       "    </tr>\n",
       "  </tbody>\n",
       "</table>\n",
       "<p>502 rows × 3 columns</p>\n",
       "</div>"
      ],
      "text/plain": [
       "           Date  Actual Price  Predicted Price\n",
       "0    2021-04-06        110.46        93.324397\n",
       "1    2021-04-07        111.95        93.385392\n",
       "2    2021-04-08        112.52        93.420315\n",
       "3    2021-04-09        113.53        93.416800\n",
       "4    2021-04-12        112.23        92.533140\n",
       "..          ...           ...              ...\n",
       "497  2023-03-27        102.46       127.222553\n",
       "498  2023-03-28        101.03       127.332245\n",
       "499  2023-03-29        101.39       127.416820\n",
       "500  2023-03-30        100.89       127.462796\n",
       "501  2023-03-31        103.73       126.627246\n",
       "\n",
       "[502 rows x 3 columns]"
      ]
     },
     "execution_count": 25,
     "metadata": {},
     "output_type": "execute_result"
    }
   ],
   "source": [
    "comparison_df"
   ]
  },
  {
   "cell_type": "markdown",
   "metadata": {
    "application/vnd.databricks.v1+cell": {
     "cellMetadata": {
      "byteLimit": 2048000,
      "rowLimit": 10000
     },
     "inputWidgets": {},
     "nuid": "2dd2740c-c4cf-4886-a7e3-8a9c89d4be52",
     "showTitle": false,
     "title": ""
    }
   },
   "source": [
    "#Test-Train Split\n",
    "We are using sliding window for splitting the train-test dataset"
   ]
  },
  {
   "cell_type": "code",
   "execution_count": 22,
   "metadata": {},
   "outputs": [
    {
     "data": {
      "image/png": "[encoded data removed]",
      "text/plain": [
       "<Figure size 1200x600 with 1 Axes>"
      ]
     },
     "metadata": {},
     "output_type": "display_data"
    }
   ],
   "source": [
    "import matplotlib.pyplot as plt\n",
    "from matplotlib.dates import MonthLocator\n",
    "from matplotlib.ticker import AutoMinorLocator\n",
    "from pandas.plotting import register_matplotlib_converters\n",
    "\n",
    "# Assuming 'prediction_df' is your DataFrame with columns 'Date', 'Actual Price', and 'Predicted Price'\n",
    "\n",
    "# Ensure proper date conversion for plotting\n",
    "register_matplotlib_converters()\n",
    "\n",
    "# Create a line graph\n",
    "plt.figure(figsize=(12, 6))\n",
    "plt.plot(comparison_df['Date'], comparison_df['Actual Price'], label='Actual Price', marker='o', linestyle='-', color='blue')\n",
    "plt.plot(comparison_df['Date'], comparison_df['Predicted Price'], label='Predicted Price', marker='x', linestyle='--', color='red')\n",
    "plt.xlabel('Date')\n",
    "plt.ylabel('Price')\n",
    "plt.title('Actual vs. Predicted Prices')\n",
    "plt.legend()\n",
    "plt.grid(True)\n",
    "plt.tight_layout()\n",
    "\n",
    "# Set the major tick locator to display dates at 3-month intervals\n",
    "ax = plt.gca()\n",
    "ax.xaxis.set_major_locator(MonthLocator(interval=3))\n",
    "\n",
    "# Set minor tick locator for better date visibility\n",
    "ax.xaxis.set_minor_locator(AutoMinorLocator())\n",
    "\n",
    "# Rotate x-axis labels for better readability\n",
    "plt.xticks(rotation=45)\n",
    "\n",
    "# Show the graph (you can also save it as an image using plt.savefig)\n",
    "plt.show()\n"
   ]
  },
  {
   "cell_type": "code",
   "execution_count": null,
   "metadata": {
    "application/vnd.databricks.v1+cell": {
     "cellMetadata": {
      "byteLimit": 2048000,
      "rowLimit": 10000
     },
     "inputWidgets": {},
     "nuid": "af9b48c9-01f8-4e2e-8647-8fe220f04edd",
     "showTitle": false,
     "title": ""
    }
   },
   "outputs": [],
   "source": [
    "def create_feature_target(df, window_size):\n",
    "\n",
    "    # Initialize empty lists to store the features (X) and target variable (y)\n",
    "    features = []\n",
    "    targets = []\n",
    "\n",
    "    # Iterate over the dataframe to create the feature matrix X and target variable y\n",
    "    for i in range(window_size, len(df)-1):\n",
    "        # Extract the window of data for features\n",
    "        window_data = df.iloc[i-window_size:i, 1:]\n",
    "        window_data.drop('Price', axis=1)\n",
    "\n",
    "        # Flatten the window data into a 1-dimensional vector\n",
    "        flattened_window = window_data.values.flatten()\n",
    "\n",
    "        # Append the flattened window to the features list\n",
    "        features.append(flattened_window)\n",
    "\n",
    "        # Get the target value (Price) for the next day and append it to the target variable list\n",
    "        next_day_price = df.iloc[i+1, 1]\n",
    "        targets.append(next_day_price)\n",
    "\n",
    "    print(window_data)\n",
    "    features = pd.DataFrame(features)\n",
    "    targets = pd.DataFrame(targets, columns=[\"Price\"])\n",
    "    return features, targets\n"
   ]
  },
  {
   "cell_type": "code",
   "execution_count": null,
   "metadata": {
    "application/vnd.databricks.v1+cell": {
     "cellMetadata": {
      "byteLimit": 2048000,
      "rowLimit": 10000
     },
     "inputWidgets": {},
     "nuid": "9c0e1c19-36b7-40b8-ab43-71842db128a8",
     "showTitle": false,
     "title": ""
    }
   },
   "outputs": [],
   "source": [
    "def predicted_price(model, df, window_size):\n",
    "\n",
    "    # Define the rolling window size and step\n",
    "    window_size = 365  # Number of days in each window\n",
    "    step_size = 30     # Number of days to step forward in each iteration\n",
    "\n",
    "    # Initialize lists to store forecasts and actual values\n",
    "    forecasts = []\n",
    "    actuals = []\n",
    "\n",
    "    # Perform rolling window forecasting\n",
    "    for i in range(0, len(data) - window_size, step_size):\n",
    "        window_data = data.iloc[i:i + window_size]\n",
    "\n",
    "        # Initialize and fit the Prophet model for the window\n",
    "        model = Prophet()\n",
    "        model.fit(window_data)\n",
    "\n",
    "        # Create a dataframe for future predictions within the window\n",
    "        future = model.make_future_dataframe(periods=365)  # Predict for one year into the future\n",
    "\n",
    "        # Make predictions for the window\n",
    "        forecast = model.predict(future)\n",
    "\n",
    "        # Append the forecast and actual values\n",
    "        forecasts.append(forecast)\n",
    "        actuals.append(window_data)\n",
    "\n",
    "    # Concatenate forecasts and actuals into a single DataFrame\n",
    "    all_forecasts = pd.concat(forecasts)\n",
    "    all_actuals = pd.concat(actuals)\n"
   ]
  },
  {
   "cell_type": "markdown",
   "metadata": {
    "application/vnd.databricks.v1+cell": {
     "cellMetadata": {},
     "inputWidgets": {},
     "nuid": "fbd746db-5021-402e-b25b-dccbbc7e1373",
     "showTitle": false,
     "title": ""
    }
   },
   "source": [
    "#Prediction Results without feature Extraction"
   ]
  },
  {
   "cell_type": "code",
   "execution_count": null,
   "metadata": {
    "application/vnd.databricks.v1+cell": {
     "cellMetadata": {
      "byteLimit": 2048000,
      "rowLimit": 10000
     },
     "inputWidgets": {},
     "nuid": "1acbff50-d96d-461e-809b-916c92aaa8d8",
     "showTitle": false,
     "title": ""
    }
   },
   "outputs": [],
   "source": [
    "# Initialize the Prophet Model\n",
    "model_prophet = Prophet()\n",
    "\n",
    "# Define the window size (number of previous days to consider for prediction)\n",
    "window_size = 7\n",
    "\n",
    "predictions_xgb = predicted_price(model_prophet, google_stock_df_modelling, window_size)\n"
   ]
  },
  {
   "cell_type": "code",
   "execution_count": null,
   "metadata": {
    "application/vnd.databricks.v1+cell": {
     "cellMetadata": {
      "byteLimit": 2048000,
      "rowLimit": 10000
     },
     "inputWidgets": {},
     "nuid": "8f35ab91-3e2a-48bb-ac42-2b08ecd8e967",
     "showTitle": false,
     "title": ""
    }
   },
   "outputs": [],
   "source": [
    "predictions_xgb"
   ]
  },
  {
   "cell_type": "code",
   "execution_count": null,
   "metadata": {
    "application/vnd.databricks.v1+cell": {
     "cellMetadata": {
      "byteLimit": 2048000,
      "rowLimit": 10000
     },
     "inputWidgets": {},
     "nuid": "7863da61-3fda-4efc-89fe-8162bb165574",
     "showTitle": false,
     "title": ""
    }
   },
   "outputs": [],
   "source": [
    "evaluate(predictions_xgb)"
   ]
  },
  {
   "cell_type": "markdown",
   "metadata": {
    "application/vnd.databricks.v1+cell": {
     "cellMetadata": {},
     "inputWidgets": {},
     "nuid": "cc1edde1-b378-4cb7-a39a-2f1862abdbb9",
     "showTitle": false,
     "title": ""
    }
   },
   "source": [
    "#Prediction Results with feature Extraction"
   ]
  },
  {
   "cell_type": "code",
   "execution_count": null,
   "metadata": {
    "application/vnd.databricks.v1+cell": {
     "cellMetadata": {
      "byteLimit": 2048000,
      "rowLimit": 10000
     },
     "inputWidgets": {},
     "nuid": "5400f35a-9c71-40e8-9bcc-87fe3f0ca79a",
     "showTitle": false,
     "title": ""
    }
   },
   "outputs": [],
   "source": [
    "def predicted_price_with_feature_extraction(model, df, window_size):\n",
    "\n",
    "    feature_x, target_y = create_feature_target_extraction(df, window_size)\n",
    "    # Split the data into training and testing sets\n",
    "    x_train, x_test, y_train, y_test = train_test_split(feature_x, target_y, test_size=0.2, shuffle=False)\n",
    "\n",
    "    model.fit(x_train, y_train)\n",
    "    # Make predictions on the test data\n",
    "    y_pred = model.predict(x_test)\n",
    "\n",
    "    # Reshape y_pred to be 1-dimensional\n",
    "    y_pred = y_pred.flatten()\n",
    "\n",
    "    # Reset the index of y_test to match the indices of date_subset\n",
    "    y_test_reset_index = y_test.reset_index(drop=True)\n",
    "\n",
    "    # Create a subset of df[\"Date\"] with matching indices\n",
    "    date_subset = df[\"Date\"].iloc[window_size + len(x_train) + 1: window_size + len(x_train) + len(y_pred) + 1].reset_index(drop=True)\n",
    "\n",
    "    # Convert the predictions, y_test_reset_index, and date_subset to a pandas DataFrme\n",
    "    predictions_df = pd.DataFrame({\"Date\": date_subset, \"Actual Price\": y_test_reset_index.values.flatten(), \"Predicted Price\": y_pred})\n",
    "    return predictions_df\n"
   ]
  },
  {
   "cell_type": "code",
   "execution_count": null,
   "metadata": {
    "application/vnd.databricks.v1+cell": {
     "cellMetadata": {
      "byteLimit": 2048000,
      "rowLimit": 10000
     },
     "inputWidgets": {},
     "nuid": "9b60cfdf-cbe9-4d64-ace6-0911e3d4483e",
     "showTitle": false,
     "title": ""
    }
   },
   "outputs": [],
   "source": [
    "def create_feature_target_extraction(df, window_size):\n",
    "    # Initialize empty lists to store the features (X) and target variable (y)\n",
    "    features = []\n",
    "    targets = []\n",
    "\n",
    "    # Calculate the moving average over the window size\n",
    "    moving_average = df['Close'].rolling(window=window_size).mean()\n",
    "\n",
    "    # Iterate over the dataframe to create the feature matrix X and target variable y\n",
    "    for i in range(window_size, len(df) - 1):\n",
    "        # Extract the window of data for features\n",
    "        window_data = df.iloc[i - window_size:i, :]\n",
    "\n",
    "        # Calculate the moving average feature for the window\n",
    "        ma_feature = moving_average.iloc[i - window_size]\n",
    "\n",
    "        # Filter out non-numeric columns\n",
    "        numeric_cols = window_data.select_dtypes(include=[np.number]).columns\n",
    "\n",
    "        # Flatten the numeric columns of the window data into a 1-dimensional vector\n",
    "        flattened_window = window_data[numeric_cols].values.flatten()\n",
    "\n",
    "        # Append the flattened window and moving average feature to the features list\n",
    "        features.append(np.concatenate((flattened_window, [ma_feature])))\n",
    "\n",
    "        # Get the target value (Price) for the next day and append it to the target variable list\n",
    "        next_day_price = df.iloc[i + 1, 1] \n",
    "        targets.append(next_day_price)\n",
    "\n",
    "    features = pd.DataFrame(features)\n",
    "    targets = pd.DataFrame(targets, columns=[\"Price\"])\n",
    "    return features, targets\n",
    "\n"
   ]
  },
  {
   "cell_type": "code",
   "execution_count": null,
   "metadata": {
    "application/vnd.databricks.v1+cell": {
     "cellMetadata": {
      "byteLimit": 2048000,
      "rowLimit": 10000
     },
     "inputWidgets": {},
     "nuid": "6a26529b-7b59-42ed-9364-b31bf2d69c33",
     "showTitle": false,
     "title": ""
    }
   },
   "outputs": [],
   "source": [
    "# Define the parameter values\n",
    "params = {\n",
    "    'colsample_bytree': 0.9172716609311327,\n",
    "    'learning_rate': 0.6253240010667009,\n",
    "    'max_depth': 8,\n",
    "    'n_estimators': 70,\n",
    "    'subsample': 0.9605703978539917\n",
    "}\n",
    "\n",
    "# Initialize the XGBoost regressor with the specified parameters\n",
    "model_xgb_feature_extracted = xgb.XGBRegressor(**params)\n",
    "predictions_xgb_with_extraction = predicted_price_with_feature_extraction(model_xgb, google_stock_df_modelling, window_size)"
   ]
  },
  {
   "cell_type": "code",
   "execution_count": null,
   "metadata": {
    "application/vnd.databricks.v1+cell": {
     "cellMetadata": {
      "byteLimit": 2048000,
      "rowLimit": 10000
     },
     "inputWidgets": {},
     "nuid": "bd0fbb85-6ee0-4572-9ca7-f0101a4a5fce",
     "showTitle": false,
     "title": ""
    }
   },
   "outputs": [],
   "source": [
    "predictions_xgb_with_extraction"
   ]
  },
  {
   "cell_type": "code",
   "execution_count": null,
   "metadata": {
    "application/vnd.databricks.v1+cell": {
     "cellMetadata": {
      "byteLimit": 2048000,
      "rowLimit": 10000
     },
     "inputWidgets": {},
     "nuid": "818b40e7-f340-4708-b10e-2a995016a3eb",
     "showTitle": false,
     "title": ""
    }
   },
   "outputs": [],
   "source": [
    "evaluate(predictions_xgb_with_extraction)"
   ]
  },
  {
   "cell_type": "code",
   "execution_count": null,
   "metadata": {
    "application/vnd.databricks.v1+cell": {
     "cellMetadata": {
      "byteLimit": 2048000,
      "rowLimit": 10000
     },
     "inputWidgets": {},
     "nuid": "36ee8933-9a6f-486c-8517-7d94efca521f",
     "showTitle": false,
     "title": ""
    }
   },
   "outputs": [],
   "source": [
    "feature_x, target_y = create_feature_target_extraction(google_stock_df_modelling, 7)\n",
    "train_features, test_features, train_target, test_target = train_test_split(feature_x, target_y, test_size=0.2, shuffle=False)"
   ]
  },
  {
   "cell_type": "code",
   "execution_count": null,
   "metadata": {
    "application/vnd.databricks.v1+cell": {
     "cellMetadata": {
      "byteLimit": 2048000,
      "rowLimit": 10000
     },
     "inputWidgets": {},
     "nuid": "6b2692d2-d5bf-4319-98e0-e649aeb39cbb",
     "showTitle": false,
     "title": ""
    }
   },
   "outputs": [],
   "source": [
    "train_features"
   ]
  },
  {
   "cell_type": "markdown",
   "metadata": {
    "application/vnd.databricks.v1+cell": {
     "cellMetadata": {
      "byteLimit": 2048000,
      "rowLimit": 10000
     },
     "inputWidgets": {},
     "nuid": "13802d2b-b6c7-4929-ad62-38d670eeeb8e",
     "showTitle": false,
     "title": ""
    }
   },
   "source": [
    "#Hyperopt"
   ]
  },
  {
   "cell_type": "code",
   "execution_count": null,
   "metadata": {
    "application/vnd.databricks.v1+cell": {
     "cellMetadata": {
      "byteLimit": 2048000,
      "rowLimit": 10000
     },
     "inputWidgets": {},
     "nuid": "3b3cc110-83c3-4c9a-b62c-a164198920eb",
     "showTitle": false,
     "title": ""
    }
   },
   "outputs": [],
   "source": [
    "def XGBoostFunc(params):\n",
    "    # Set the hyperparameters\n",
    "    max_depth = params['max_depth']\n",
    "    learning_rate = params['learning_rate']\n",
    "    n_estimators = params['n_estimators']\n",
    "    subsample = params['subsample']\n",
    "    colsample_bytree = params['colsample_bytree']\n",
    "    \n",
    "    model_XGBOOST = xgb.XGBRegressor(max_depth=max_depth,\n",
    "                             learning_rate=learning_rate,\n",
    "                             n_estimators=n_estimators,\n",
    "                             subsample=subsample,\n",
    "                             colsample_bytree=colsample_bytree)\n",
    "    model_XGBOOST.fit(train_features, train_target)\n",
    "    predicted_values_XGBOOST = model_XGBOOST.predict(test_features)\n",
    "    loss = mean_squared_error(test_target,predicted_values_XGBOOST)\n",
    "    return loss\n"
   ]
  },
  {
   "cell_type": "markdown",
   "metadata": {
    "application/vnd.databricks.v1+cell": {
     "cellMetadata": {
      "byteLimit": 2048000,
      "rowLimit": 10000
     },
     "inputWidgets": {},
     "nuid": "bf10cf3b-63fb-4d20-accb-2e8d51dd64d7",
     "showTitle": false,
     "title": ""
    }
   },
   "source": [
    "#Space Definition\n",
    "\n",
    "The search space for the hyperparameters! The search space refers to the range or set of possible values that each hyperparameter can take during the optimization process.\n",
    "\n",
    "n_estimators -> no. of estimators(individual decision tree that contributes to the final prediction)\n",
    "\n",
    "subsample -> subsample represents the range or distribution of values that we want to explore during the optimization process. Choosing a lower value of subsample (e.g., closer to 0.5) means that each tree will be trained on a smaller subset of the training data, introducing more randomness and reducing overfitting. Selecting a higher value of subsample (e.g., closer to 1) means that each tree will use a larger fraction of the training data, with a higher risk of overfitting.\n",
    "\n",
    "colsample_bytree -> controls the subset of features that are used to build each individual tree."
   ]
  },
  {
   "cell_type": "code",
   "execution_count": null,
   "metadata": {
    "application/vnd.databricks.v1+cell": {
     "cellMetadata": {
      "byteLimit": 2048000,
      "rowLimit": 10000
     },
     "inputWidgets": {},
     "nuid": "52276138-acd5-46e7-aa9a-fbacb9f6452f",
     "showTitle": false,
     "title": ""
    }
   },
   "outputs": [],
   "source": [
    "space = {\n",
    "    'max_depth': hp.choice('max_depth', range(1, 10)),\n",
    "    'learning_rate': hp.loguniform('learning_rate', -5, 0),\n",
    "    'n_estimators': hp.choice('n_estimators', range(50, 200)),\n",
    "    'subsample': hp.uniform('subsample', 0.5, 1),\n",
    "    'colsample_bytree': hp.uniform('colsample_bytree', 0.5, 1),\n",
    "}"
   ]
  },
  {
   "cell_type": "code",
   "execution_count": null,
   "metadata": {
    "application/vnd.databricks.v1+cell": {
     "cellMetadata": {
      "byteLimit": 2048000,
      "rowLimit": 10000
     },
     "inputWidgets": {},
     "nuid": "516a690d-abb6-4917-a755-0ccca486dec3",
     "showTitle": false,
     "title": ""
    }
   },
   "outputs": [],
   "source": [
    "# Configure Hyperopt\n",
    "trials = Trials()\n",
    "max_evals = 50 "
   ]
  },
  {
   "cell_type": "code",
   "execution_count": null,
   "metadata": {
    "application/vnd.databricks.v1+cell": {
     "cellMetadata": {
      "byteLimit": 2048000,
      "rowLimit": 10000
     },
     "inputWidgets": {},
     "nuid": "5f504bfd-9eb4-4650-bce8-97a18a72b0ba",
     "showTitle": false,
     "title": ""
    }
   },
   "outputs": [],
   "source": [
    "best = fmin(\n",
    "    fn=XGBoostFunc,\n",
    "    space=space,\n",
    "    algo=tpe.suggest,\n",
    "    trials=trials,\n",
    "    max_evals=max_evals\n",
    ")"
   ]
  },
  {
   "cell_type": "code",
   "execution_count": null,
   "metadata": {
    "application/vnd.databricks.v1+cell": {
     "cellMetadata": {
      "byteLimit": 2048000,
      "rowLimit": 10000
     },
     "inputWidgets": {},
     "nuid": "776066e7-df4d-4125-be82-c7721282d3ab",
     "showTitle": false,
     "title": ""
    }
   },
   "outputs": [],
   "source": [
    "best"
   ]
  },
  {
   "cell_type": "code",
   "execution_count": null,
   "metadata": {
    "application/vnd.databricks.v1+cell": {
     "cellMetadata": {
      "byteLimit": 2048000,
      "rowLimit": 10000
     },
     "inputWidgets": {},
     "nuid": "69954e98-40ee-4c5a-96c8-f80485415739",
     "showTitle": false,
     "title": ""
    }
   },
   "outputs": [],
   "source": [
    "# Define the parameter values\n",
    "params = {\n",
    "    ''colsample_bytree': 0.9172716609311327,\n",
    "    'learning_rate': 0.6253240010667009,\n",
    "    'max_depth': 8,\n",
    "    'n_estimators': 70,\n",
    "    'subsample': 0.9605703978539917\n",
    "}\n",
    "\n",
    "# Initialize the XGBoost regressor with the specified parameters\n",
    "model_xgb_opt = xgb.XGBRegressor(**params)\n",
    "\n",
    "# Define the window size (number of previous days to consider for prediction)\n",
    "window_size = 7\n",
    "\n",
    "predictions_xgb_opt = predicted_price_with_feature_extraction(model_xgb_opt, google_stock_df_modelling, window_size)"
   ]
  },
  {
   "cell_type": "code",
   "execution_count": null,
   "metadata": {
    "application/vnd.databricks.v1+cell": {
     "cellMetadata": {
      "byteLimit": 2048000,
      "rowLimit": 10000
     },
     "inputWidgets": {},
     "nuid": "7ef19ee9-0bb0-4ef8-b474-a8765834db15",
     "showTitle": false,
     "title": ""
    }
   },
   "outputs": [],
   "source": [
    "predictions_xgb_opt"
   ]
  },
  {
   "cell_type": "code",
   "execution_count": null,
   "metadata": {
    "application/vnd.databricks.v1+cell": {
     "cellMetadata": {
      "byteLimit": 2048000,
      "rowLimit": 10000
     },
     "inputWidgets": {},
     "nuid": "c08ff0a3-e6ad-4662-b987-3adaafb1a117",
     "showTitle": false,
     "title": ""
    }
   },
   "outputs": [],
   "source": [
    "evaluate(predictions_xgb_opt)"
   ]
  },
  {
   "cell_type": "markdown",
   "metadata": {
    "application/vnd.databricks.v1+cell": {
     "cellMetadata": {
      "byteLimit": 2048000,
      "rowLimit": 10000
     },
     "inputWidgets": {},
     "nuid": "1827344c-b1fc-4b79-bff2-631bdc4e9d89",
     "showTitle": false,
     "title": ""
    }
   },
   "source": [
    "#Parallelizing Hyperopt Tuning"
   ]
  },
  {
   "cell_type": "code",
   "execution_count": null,
   "metadata": {
    "application/vnd.databricks.v1+cell": {
     "cellMetadata": {
      "byteLimit": 2048000,
      "rowLimit": 10000
     },
     "inputWidgets": {},
     "nuid": "c9c1518f-09a8-439f-8389-352db6717cfd",
     "showTitle": false,
     "title": ""
    }
   },
   "outputs": [],
   "source": [
    "from hyperopt import SparkTrials\n",
    "import mlflow"
   ]
  },
  {
   "cell_type": "markdown",
   "metadata": {
    "application/vnd.databricks.v1+cell": {
     "cellMetadata": {
      "byteLimit": 2048000,
      "rowLimit": 10000
     },
     "inputWidgets": {},
     "nuid": "0002d248-9f41-4323-910a-6b12b21b2d74",
     "showTitle": false,
     "title": ""
    }
   },
   "source": [
    "#Spark Trials\n",
    "\n",
    "SparkTrials takes 2 optional arguments:\n",
    "\n",
    "parallelism: Number of models to fit and evaluate concurrently. The default is the number of available Spark task slots.\n",
    "\n",
    "timeout: Maximum time (in seconds) that fmin() can run. The default is no maximum time limit."
   ]
  },
  {
   "cell_type": "markdown",
   "metadata": {
    "application/vnd.databricks.v1+cell": {
     "cellMetadata": {
      "byteLimit": 2048000,
      "rowLimit": 10000
     },
     "inputWidgets": {},
     "nuid": "b3e44b07-9236-4e28-998b-f592758f04fd",
     "showTitle": false,
     "title": ""
    }
   },
   "source": [
    "#Types of search algo \n",
    "hyperopt.tpe.suggest: Tree of Parzen Estimators, a Bayesian approach which iteratively and adaptively selects new hyperparameter settings to explore based on past results\n",
    "hyperopt.rand.suggest: Random search, a non-adaptive approach that samples over the search space"
   ]
  },
  {
   "cell_type": "code",
   "execution_count": null,
   "metadata": {
    "application/vnd.databricks.v1+cell": {
     "cellMetadata": {
      "byteLimit": 2048000,
      "rowLimit": 10000
     },
     "inputWidgets": {},
     "nuid": "f5642cb9-5176-4951-8bf4-034eca272d52",
     "showTitle": false,
     "title": ""
    }
   },
   "outputs": [],
   "source": [
    "spark_trials = SparkTrials(4)\n",
    "max_evals_spark = 100\n",
    "\n",
    "with mlflow.start_run():\n",
    "  argmin = fmin(\n",
    "    fn=XGBoostFunc,\n",
    "    space=space,\n",
    "    algo=rand.suggest,\n",
    "    max_evals=max_evals_spark,\n",
    "    trials=spark_trials)"
   ]
  },
  {
   "cell_type": "code",
   "execution_count": null,
   "metadata": {
    "application/vnd.databricks.v1+cell": {
     "cellMetadata": {
      "byteLimit": 2048000,
      "rowLimit": 10000
     },
     "inputWidgets": {},
     "nuid": "6bd32a8d-d275-4a4f-8ae1-7297813d0435",
     "showTitle": false,
     "title": ""
    }
   },
   "outputs": [],
   "source": [
    "argmin"
   ]
  },
  {
   "cell_type": "code",
   "execution_count": null,
   "metadata": {
    "application/vnd.databricks.v1+cell": {
     "cellMetadata": {
      "byteLimit": 2048000,
      "rowLimit": 10000
     },
     "inputWidgets": {},
     "nuid": "895e8481-6d6a-451c-b84d-d8135600989b",
     "showTitle": false,
     "title": ""
    }
   },
   "outputs": [],
   "source": [
    "# Define the parameter values\n",
    "params = {\n",
    "    'colsample_bytree': 0.6168136805920839,\n",
    "    'learning_rate': 0.5388100199935252,\n",
    "    'max_depth': 7,\n",
    "    'n_estimators': 143,\n",
    "    'subsample': 0.5878989107028276\n",
    "}\n",
    "\n",
    "# Initialize the XGBoost regressor with the specified parameters\n",
    "model_xgb_opt = xgb.XGBRegressor(**params)\n",
    "\n",
    "# Define the window size (number of previous days to consider for prediction)\n",
    "window_size = 7\n",
    "\n",
    "predictions_xgb_opt_spark_rand = predicted_price(model_xgb_opt, google_stock_df_modelling, window_size)\n",
    "evaluate(predictions_xgb_opt_spark_rand)"
   ]
  },
  {
   "cell_type": "code",
   "execution_count": null,
   "metadata": {
    "application/vnd.databricks.v1+cell": {
     "cellMetadata": {
      "byteLimit": 2048000,
      "rowLimit": 10000
     },
     "inputWidgets": {},
     "nuid": "a6c2a738-865e-455d-8cc6-79189b1b9ff6",
     "showTitle": false,
     "title": ""
    }
   },
   "outputs": [],
   "source": [
    "spark_trials = SparkTrials(4)\n",
    "max_evals_spark = 100\n",
    "\n",
    "with mlflow.start_run():\n",
    "  argmin_tpe = fmin(\n",
    "    fn=XGBoostFunc,\n",
    "    space=space,\n",
    "    algo=tpe.suggest,\n",
    "    max_evals=max_evals_spark,\n",
    "    trials=spark_trials)"
   ]
  },
  {
   "cell_type": "code",
   "execution_count": null,
   "metadata": {
    "application/vnd.databricks.v1+cell": {
     "cellMetadata": {
      "byteLimit": 2048000,
      "rowLimit": 10000
     },
     "inputWidgets": {},
     "nuid": "f5cd68df-fade-4012-96f3-aa6e40707458",
     "showTitle": false,
     "title": ""
    }
   },
   "outputs": [],
   "source": [
    "argmin_tpe"
   ]
  },
  {
   "cell_type": "code",
   "execution_count": null,
   "metadata": {
    "application/vnd.databricks.v1+cell": {
     "cellMetadata": {
      "byteLimit": 2048000,
      "rowLimit": 10000
     },
     "inputWidgets": {},
     "nuid": "8ae941ee-0d0a-4dff-8af2-a52af0138309",
     "showTitle": false,
     "title": ""
    }
   },
   "outputs": [],
   "source": [
    "# Define the parameter values\n",
    "params = {\n",
    "    'colsample_bytree': 0.7363397845367727,\n",
    "    'learning_rate': 0.9791674584219473,\n",
    "    'max_depth': 4,\n",
    "    'n_estimators': 37,\n",
    "    'subsample': 0.7066230640051272\n",
    "}\n",
    "\n",
    "# Initialize the XGBoost regressor with the specified parameters\n",
    "model_xgb_opt = xgb.XGBRegressor(**params)\n",
    "\n",
    "# Define the window size (number of previous days to consider for prediction)\n",
    "window_size = 7\n",
    "\n",
    "predictions_xgb_opt_spark_tpe = predicted_price(model_xgb_opt, google_stock_df_modelling, window_size)\n",
    "evaluate(predictions_xgb_opt_spark_tpe)"
   ]
  },
  {
   "cell_type": "code",
   "execution_count": null,
   "metadata": {
    "application/vnd.databricks.v1+cell": {
     "cellMetadata": {
      "byteLimit": 2048000,
      "rowLimit": 10000
     },
     "inputWidgets": {},
     "nuid": "23c7e6af-8db2-44e4-bc57-a3a9c5a68052",
     "showTitle": false,
     "title": ""
    }
   },
   "outputs": [],
   "source": [
    "model_XGBFR = XGBRFRegressor()\n",
    "model_XGBFR.fit(train_features, train_target)"
   ]
  },
  {
   "cell_type": "code",
   "execution_count": null,
   "metadata": {
    "application/vnd.databricks.v1+cell": {
     "cellMetadata": {
      "byteLimit": 2048000,
      "rowLimit": 10000
     },
     "inputWidgets": {},
     "nuid": "c54e0825-98c6-49e5-8e0e-44de5ef0322b",
     "showTitle": false,
     "title": ""
    }
   },
   "outputs": [],
   "source": [
    "predicted_values_XGBFR = model_XGBFR.predict(test_features)"
   ]
  },
  {
   "cell_type": "code",
   "execution_count": null,
   "metadata": {
    "application/vnd.databricks.v1+cell": {
     "cellMetadata": {
      "byteLimit": 2048000,
      "rowLimit": 10000
     },
     "inputWidgets": {},
     "nuid": "75388107-0d3c-44ca-9402-5621194b4b34",
     "showTitle": false,
     "title": ""
    }
   },
   "outputs": [],
   "source": [
    "print(\"MSE\",round(mean_squared_error(test_target,predicted_values_XGBFR), 3))\n",
    "print(\"RMSE\",round(np.sqrt(mean_squared_error(test_target,predicted_values_XGBFR)), 3))\n",
    "print(\"MAE\",round(mean_absolute_error(test_target,predicted_values_XGBFR), 3))"
   ]
  },
  {
   "cell_type": "code",
   "execution_count": null,
   "metadata": {
    "application/vnd.databricks.v1+cell": {
     "cellMetadata": {
      "byteLimit": 2048000,
      "rowLimit": 10000
     },
     "inputWidgets": {},
     "nuid": "525ad233-bfa6-4a67-945d-8e047ed835fb",
     "showTitle": false,
     "title": ""
    }
   },
   "outputs": [],
   "source": [
    "params = {\n",
    "    'boosting_type': 'gbdt',\n",
    "    'objective': 'regression',\n",
    "    'metric': 'mse',\n",
    "    'num_leaves': 31,\n",
    "    'learning_rate': 0.05,\n",
    "    'feature_fraction': 0.9,\n",
    "    'bagging_fraction': 0.8,\n",
    "    'bagging_freq': 5,\n",
    "    'verbose': 0\n",
    "}"
   ]
  },
  {
   "cell_type": "code",
   "execution_count": null,
   "metadata": {
    "application/vnd.databricks.v1+cell": {
     "cellMetadata": {
      "byteLimit": 2048000,
      "rowLimit": 10000
     },
     "inputWidgets": {},
     "nuid": "2d644421-03b0-45b8-a5d4-5b409e74db3c",
     "showTitle": false,
     "title": ""
    }
   },
   "outputs": [],
   "source": [
    "train_data = lgb.Dataset(train_features, label=train_target)"
   ]
  },
  {
   "cell_type": "code",
   "execution_count": null,
   "metadata": {
    "application/vnd.databricks.v1+cell": {
     "cellMetadata": {
      "byteLimit": 2048000,
      "rowLimit": 10000
     },
     "inputWidgets": {},
     "nuid": "9b5e4b84-b509-4c9c-9df9-0d052445dd4d",
     "showTitle": false,
     "title": ""
    }
   },
   "outputs": [],
   "source": [
    "model_lightGBM = lgb.train(params, train_data, 100)\n",
    "predicted_values_lightGBM = model_lightGBM.predict(test_features)"
   ]
  },
  {
   "cell_type": "code",
   "execution_count": null,
   "metadata": {
    "application/vnd.databricks.v1+cell": {
     "cellMetadata": {
      "byteLimit": 2048000,
      "rowLimit": 10000
     },
     "inputWidgets": {},
     "nuid": "4fb1b5e3-71a0-477d-ae27-bab106ea2fc0",
     "showTitle": false,
     "title": ""
    }
   },
   "outputs": [],
   "source": [
    "print(\"MSE\",round(mean_squared_error(test_target,predicted_values_lightGBM), 3))\n",
    "print(\"RMSE\",round(np.sqrt(mean_squared_error(test_target,predicted_values_lightGBM)), 3))\n",
    "print(\"MAE\",round(mean_absolute_error(test_target,predicted_values_lightGBM), 3))"
   ]
  }
 ],
 "metadata": {
  "application/vnd.databricks.v1+notebook": {
   "dashboards": [],
   "language": "python",
   "notebookMetadata": {
    "mostRecentlyExecutedCommandWithImplicitDF": {
     "commandId": 237863954737316,
     "dataframes": [
      "_sqldf"
     ]
    },
    "pythonIndentUnit": 4
   },
   "notebookName": "Google_Stock_Prediction_4.0",
   "widgets": {}
  },
  "kernelspec": {
   "display_name": "Python 3 (ipykernel)",
   "language": "python",
   "name": "python3"
  },
  "language_info": {
   "codemirror_mode": {
    "name": "ipython",
    "version": 3
   },
   "file_extension": ".py",
   "mimetype": "text/x-python",
   "name": "python",
   "nbconvert_exporter": "python",
   "pygments_lexer": "ipython3",
   "version": "3.9.13"
  }
 },
 "nbformat": 4,
 "nbformat_minor": 1
}
