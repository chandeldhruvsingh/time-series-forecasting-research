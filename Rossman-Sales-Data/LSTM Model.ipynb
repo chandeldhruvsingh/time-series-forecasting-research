{
 "cells": [
  {
   "cell_type": "markdown",
   "metadata": {
    "application/vnd.databricks.v1+cell": {
     "cellMetadata": {
      "byteLimit": 2048000,
      "rowLimit": 10000
     },
     "inputWidgets": {},
     "nuid": "c16024b9-5591-4d8c-8184-1af81fef876f",
     "showTitle": false,
     "title": ""
    }
   },
   "source": [
    "Time Series Forecasting (Research Lab,2023)\n",
    "\n",
    "Rossmann Store Sales Forecast \n",
    "\n",
    "Rossmann operates over 3,000 drugstores in 7 European countries. Currently, Rossmann store managers have to forecast their daily sales up to six weeks in advance. Store sales are influenced by many factors, such as promotions, competition, school and public holidays, seasonal and local conditions. Because thousands of store managers forecast sales based on their individual circumstances, the accuracy of results can vary widely. This booklet focuses primarily on time series analysis (seasonal decomposition, trends, autocorrelation)."
   ]
  },
  {
   "cell_type": "markdown",
   "metadata": {
    "application/vnd.databricks.v1+cell": {
     "cellMetadata": {
      "byteLimit": 2048000,
      "rowLimit": 10000
     },
     "inputWidgets": {},
     "nuid": "4c4c8eda-72e6-4e84-ac64-415d8b07f342",
     "showTitle": false,
     "title": ""
    }
   },
   "source": [
    "Steps to be performed\n",
    "\n",
    "1.Data pre-processing and cleaning                                                                                               \n",
    "2.Visualize the data                                                                                                             \n",
    "3.Make the time series data stationary, if required                                                                             \n",
    "4.Plot correlation and auto-correlation charts                                                                                   \n",
    "5.Selection of the parameters and building of model for the plotting                                                             \n",
    "6.Use the model to make the required predictions "
   ]
  },
  {
   "cell_type": "code",
   "execution_count": 1,
   "metadata": {},
   "outputs": [],
   "source": [
    "#!pip install xgboost\n",
    "#!pip install pmdarima"
   ]
  },
  {
   "cell_type": "code",
   "execution_count": 28,
   "metadata": {
    "scrolled": true
   },
   "outputs": [],
   "source": [
    "#!pip install fbprophet"
   ]
  },
  {
   "cell_type": "code",
   "execution_count": 1,
   "metadata": {},
   "outputs": [],
   "source": [
    "from prophet import Prophet"
   ]
  },
  {
   "cell_type": "code",
   "execution_count": 1,
   "metadata": {},
   "outputs": [],
   "source": [
    "#pip install tensorflow\n"
   ]
  },
  {
   "cell_type": "code",
   "execution_count": 1,
   "metadata": {
    "application/vnd.databricks.v1+cell": {
     "cellMetadata": {
      "byteLimit": 2048000,
      "rowLimit": 10000
     },
     "inputWidgets": {},
     "nuid": "4fb0aad4-5ed4-4455-a527-62a51b17ebad",
     "showTitle": false,
     "title": ""
    }
   },
   "outputs": [],
   "source": [
    "# importing all the required libraries\n",
    "\n",
    "#for data manipulation and calculations\n",
    "import numpy as np\n",
    "import pandas as pd\n",
    "from datetime import datetime\n",
    "from time import time\n",
    "\n",
    "#for data plotting and visualizations\n",
    "import matplotlib.pyplot as plt \n",
    "import seaborn as sns\n",
    "#matplotlib inline\n",
    "import itertools\n",
    "from scipy import stats\n",
    "\n",
    "#for time series analysis\n",
    "import statsmodels.api as sm\n",
    "from statsmodels.distributions.empirical_distribution import ECDF\n",
    "from statsmodels.tsa.seasonal import seasonal_decompose\n",
    "from statsmodels.graphics.tsaplots import plot_acf, plot_pacf\n",
    "from statsmodels.tsa.stattools import acf,pacf\n",
    "from statsmodels.tsa.statespace.sarimax import SARIMAX\n",
    "\n",
    "import warnings\n",
    "warnings.filterwarnings(\"ignore\")\n",
    "\n",
    "# prophet by Facebook\n",
    "#from fbprophet import Prophet\n",
    "\n",
    "# machine learning: XGB\n",
    "import xgboost as xgb\n",
    "from sklearn.model_selection import GridSearchCV, RandomizedSearchCV\n",
    "from xgboost.sklearn import XGBRegressor # wrapper\n",
    "\n",
    "#lstmmodel\n",
    "import tensorflow as tf\n",
    "from sklearn.preprocessing import MinMaxScaler\n",
    "from sklearn.metrics import mean_squared_error\n",
    "from tensorflow import keras\n",
    "from tensorflow.keras.models import Sequential\n",
    "from tensorflow.keras.layers import LSTM, Dense\n",
    "from tensorflow.keras import layers"
   ]
  },
  {
   "cell_type": "markdown",
   "metadata": {
    "application/vnd.databricks.v1+cell": {
     "cellMetadata": {
      "byteLimit": 2048000,
      "rowLimit": 10000
     },
     "inputWidgets": {},
     "nuid": "12ffec79-bce5-43ec-a3a1-c10d22579fa2",
     "showTitle": false,
     "title": ""
    }
   },
   "source": [
    "Dataset\n",
    "\n",
    "I have taken the dataset of Rossman Stores sales data from the Kaggle website. The dataset included 3 csv files, store.csv, train.csv and test.csv.\n",
    "Using the train.csv and test.csv, the model can be trained to perform the required predictions. \n",
    "Additional store.csv is given to work upon the feature selection and to check whether the data is stationary or not.\n",
    "\n",
    "Link for the dataset - https://www.kaggle.com/competitions/rossmann-store-sales/data"
   ]
  },
  {
   "cell_type": "code",
   "execution_count": 2,
   "metadata": {
    "application/vnd.databricks.v1+cell": {
     "cellMetadata": {
      "byteLimit": 2048000,
      "rowLimit": 10000
     },
     "inputWidgets": {},
     "nuid": "03121483-7b0d-4889-b27d-63836ebc549f",
     "showTitle": false,
     "title": ""
    }
   },
   "outputs": [],
   "source": [
    "#importing training dataset\n",
    "\n",
    "train = pd.read_csv(\"C:/Ravi Singh/Semester 3/Research Lab/rossmann-store-sales/train.csv\")\n",
    "test = pd.read_csv(\"C:/Ravi Singh/Semester 3/Research Lab/rossmann-store-sales/test.csv\")\n",
    "store = pd.read_csv(\"C:/Ravi Singh/Semester 3/Research Lab/rossmann-store-sales/store.csv\")"
   ]
  },
  {
   "cell_type": "code",
   "execution_count": 3,
   "metadata": {},
   "outputs": [],
   "source": [
    "#train = train.set_index('Date')"
   ]
  },
  {
   "cell_type": "code",
   "execution_count": 4,
   "metadata": {},
   "outputs": [
    {
     "data": {
      "text/plain": [
       "((1017209, 9), (41088, 8), (1115, 10))"
      ]
     },
     "execution_count": 4,
     "metadata": {},
     "output_type": "execute_result"
    }
   ],
   "source": [
    "train.shape, test.shape, store.shape"
   ]
  },
  {
   "cell_type": "code",
   "execution_count": 5,
   "metadata": {},
   "outputs": [],
   "source": [
    "#train.info()"
   ]
  },
  {
   "cell_type": "code",
   "execution_count": 6,
   "metadata": {
    "application/vnd.databricks.v1+cell": {
     "cellMetadata": {
      "byteLimit": 2048000,
      "rowLimit": 10000
     },
     "inputWidgets": {},
     "nuid": "fa06f710-ab7f-4fbe-9d0f-7b54b5ebcee0",
     "showTitle": false,
     "title": ""
    }
   },
   "outputs": [],
   "source": [
    "#checking the train data\n",
    "#train.head().append(train.tail())"
   ]
  },
  {
   "cell_type": "code",
   "execution_count": 7,
   "metadata": {
    "application/vnd.databricks.v1+cell": {
     "cellMetadata": {
      "byteLimit": 2048000,
      "rowLimit": 10000
     },
     "inputWidgets": {},
     "nuid": "c432e722-06b5-459c-8a7f-db6877e2831e",
     "showTitle": false,
     "title": ""
    }
   },
   "outputs": [],
   "source": [
    "#checking the test data\n",
    "#test.head().append(test.tail())"
   ]
  },
  {
   "cell_type": "code",
   "execution_count": 8,
   "metadata": {
    "application/vnd.databricks.v1+cell": {
     "cellMetadata": {
      "byteLimit": 2048000,
      "rowLimit": 10000
     },
     "inputWidgets": {},
     "nuid": "8824f99c-001c-41e1-9c14-abda62a1f33d",
     "showTitle": false,
     "title": ""
    },
    "scrolled": true
   },
   "outputs": [],
   "source": [
    "#checking the store data\n",
    "#store.head().append(store.tail())\n",
    "#store.describe()"
   ]
  },
  {
   "cell_type": "markdown",
   "metadata": {},
   "source": [
    "EXPLORATORY DATA ANALYSIS (EDA) on the given dataset:\n",
    "\n",
    "To perform data cleaning, data pre-processing, checking the sales trend that vary with different factors."
   ]
  },
  {
   "cell_type": "code",
   "execution_count": 9,
   "metadata": {
    "application/vnd.databricks.v1+cell": {
     "cellMetadata": {
      "byteLimit": 2048000,
      "rowLimit": 10000
     },
     "inputWidgets": {},
     "nuid": "2507c0e0-75f6-4d71-ba36-2581a9cd90b1",
     "showTitle": false,
     "title": ""
    }
   },
   "outputs": [
    {
     "data": {
      "text/plain": [
       "Store            0\n",
       "DayOfWeek        0\n",
       "Date             0\n",
       "Sales            0\n",
       "Customers        0\n",
       "Open             0\n",
       "Promo            0\n",
       "StateHoliday     0\n",
       "SchoolHoliday    0\n",
       "dtype: int64"
      ]
     },
     "metadata": {},
     "output_type": "display_data"
    }
   ],
   "source": [
    "display(train.isnull().sum())"
   ]
  },
  {
   "cell_type": "code",
   "execution_count": 10,
   "metadata": {
    "application/vnd.databricks.v1+cell": {
     "cellMetadata": {
      "byteLimit": 2048000,
      "rowLimit": 10000
     },
     "inputWidgets": {},
     "nuid": "95dfa87b-f423-4730-94a6-a496fe8348ec",
     "showTitle": false,
     "title": ""
    }
   },
   "outputs": [
    {
     "data": {
      "text/plain": [
       "Id                0\n",
       "Store             0\n",
       "DayOfWeek         0\n",
       "Date              0\n",
       "Open             11\n",
       "Promo             0\n",
       "StateHoliday      0\n",
       "SchoolHoliday     0\n",
       "dtype: int64"
      ]
     },
     "metadata": {},
     "output_type": "display_data"
    }
   ],
   "source": [
    "display(test.isnull().sum())"
   ]
  },
  {
   "cell_type": "code",
   "execution_count": 11,
   "metadata": {
    "application/vnd.databricks.v1+cell": {
     "cellMetadata": {
      "byteLimit": 2048000,
      "rowLimit": 10000
     },
     "inputWidgets": {},
     "nuid": "7b2cc42b-aa1b-42e5-b30f-9dab35cba87a",
     "showTitle": false,
     "title": ""
    }
   },
   "outputs": [
    {
     "data": {
      "text/plain": [
       "Store                          0\n",
       "StoreType                      0\n",
       "Assortment                     0\n",
       "CompetitionDistance            3\n",
       "CompetitionOpenSinceMonth    354\n",
       "CompetitionOpenSinceYear     354\n",
       "Promo2                         0\n",
       "Promo2SinceWeek              544\n",
       "Promo2SinceYear              544\n",
       "PromoInterval                544\n",
       "dtype: int64"
      ]
     },
     "metadata": {},
     "output_type": "display_data"
    }
   ],
   "source": [
    "display(store.isnull().sum())"
   ]
  },
  {
   "cell_type": "code",
   "execution_count": 12,
   "metadata": {
    "application/vnd.databricks.v1+cell": {
     "cellMetadata": {
      "byteLimit": 2048000,
      "rowLimit": 10000
     },
     "inputWidgets": {},
     "nuid": "85f0327c-25b1-460e-a2ee-a76159c5385a",
     "showTitle": false,
     "title": ""
    }
   },
   "outputs": [],
   "source": [
    "#display(test[pd.isnull(test.Open)])"
   ]
  },
  {
   "cell_type": "code",
   "execution_count": 3,
   "metadata": {
    "application/vnd.databricks.v1+cell": {
     "cellMetadata": {
      "byteLimit": 2048000,
      "rowLimit": 10000
     },
     "inputWidgets": {},
     "nuid": "192b199a-3dae-4e7b-87cc-8033ff19bdbf",
     "showTitle": false,
     "title": ""
    }
   },
   "outputs": [],
   "source": [
    "# replacing the null values with 1\n",
    "test.fillna(1, inplace=True)"
   ]
  },
  {
   "cell_type": "code",
   "execution_count": 4,
   "metadata": {
    "application/vnd.databricks.v1+cell": {
     "cellMetadata": {
      "byteLimit": 2048000,
      "rowLimit": 10000
     },
     "inputWidgets": {},
     "nuid": "31d56c4d-a349-4e92-8e15-e686b36e1a2c",
     "showTitle": false,
     "title": ""
    }
   },
   "outputs": [],
   "source": [
    "# fillna in store with 0 has better result than median()\n",
    "store.fillna(0, inplace=True)"
   ]
  },
  {
   "cell_type": "code",
   "execution_count": 15,
   "metadata": {
    "application/vnd.databricks.v1+cell": {
     "cellMetadata": {
      "byteLimit": 2048000,
      "rowLimit": 10000
     },
     "inputWidgets": {},
     "nuid": "19c659ff-ede9-4e9a-92e6-c238f1416680",
     "showTitle": false,
     "title": ""
    },
    "scrolled": false
   },
   "outputs": [],
   "source": [
    "#display(train.isnull().sum(),test.isnull().sum(),store.isnull().sum())"
   ]
  },
  {
   "cell_type": "code",
   "execution_count": 5,
   "metadata": {
    "application/vnd.databricks.v1+cell": {
     "cellMetadata": {
      "byteLimit": 2048000,
      "rowLimit": 10000
     },
     "inputWidgets": {},
     "nuid": "ca10d04c-9ecc-43d7-aef4-36fb35a54ab4",
     "showTitle": false,
     "title": ""
    }
   },
   "outputs": [],
   "source": [
    "# for working with the Sarima Model\n",
    "\n",
    "train1 = train\n",
    "train2 = pd.merge(train1, store, on='Store')   \n",
    "\n",
    "# for working with the Xgboost model\n",
    "\n",
    "df_train_store = pd.merge(train, store, on='Store')   ## for XGBoost model\n",
    "df_test_store = pd.merge(test, store, on='Store')"
   ]
  },
  {
   "cell_type": "code",
   "execution_count": 6,
   "metadata": {
    "application/vnd.databricks.v1+cell": {
     "cellMetadata": {
      "byteLimit": 2048000,
      "rowLimit": 10000
     },
     "inputWidgets": {},
     "nuid": "2ac312e2-6fbc-4699-bac3-8f0cd71b8f5b",
     "showTitle": false,
     "title": ""
    }
   },
   "outputs": [
    {
     "data": {
      "text/plain": [
       "(1017209, 19)"
      ]
     },
     "execution_count": 6,
     "metadata": {},
     "output_type": "execute_result"
    }
   ],
   "source": [
    "#combining the two features to create a new feature that describes average sales per customer\n",
    "\n",
    "train2['Sales/Customer'] = train2['Sales']/train2['Customers']\n",
    "train2.shape"
   ]
  },
  {
   "cell_type": "code",
   "execution_count": 7,
   "metadata": {
    "application/vnd.databricks.v1+cell": {
     "cellMetadata": {
      "byteLimit": 2048000,
      "rowLimit": 10000
     },
     "inputWidgets": {},
     "nuid": "544f9f96-566f-44e4-a2b6-197c358eb5ee",
     "showTitle": false,
     "title": ""
    }
   },
   "outputs": [],
   "source": [
    "def features_create(data):\n",
    "    \n",
    "    data['Date'] = pd.to_datetime(data['Date'])\n",
    "\n",
    "    \n",
    "    mappings = {'0':0, 'a':1, 'b':2, 'c':3, 'd':4}\n",
    "    data.StoreType.replace(mappings, inplace=True)\n",
    "    data.Assortment.replace(mappings, inplace=True)\n",
    "    data.StateHoliday.replace(mappings, inplace=True)\n",
    "    \n",
    "    \n",
    "    data['Year'] = data.Date.dt.year\n",
    "    data['Month'] = data.Date.dt.month\n",
    "    data['Day'] = data.Date.dt.day\n",
    "    data['DayOfWeek'] = data.Date.dt.dayofweek\n",
    "    data['WeekOfYear'] = data.Date.dt.weekofyear\n",
    "    \n",
    "    \n",
    "    \n",
    "    data['CompetitionOpen'] = 12 * (data.Year - data.CompetitionOpenSinceYear) + (data.Month - data.CompetitionOpenSinceMonth)\n",
    "    data['PromoOpen'] = 12 * (data.Year - data.Promo2SinceYear) + (data.WeekOfYear - data.Promo2SinceWeek) / 4.0\n",
    "    data['CompetitionOpen'] = data.CompetitionOpen.apply(lambda x: x if x > 0 else 0)        \n",
    "    data['PromoOpen'] = data.PromoOpen.apply(lambda x: x if x > 0 else 0)\n",
    "    \n",
    "    \n",
    "  \n",
    "    month2str = {1:'Jan', 2:'Feb', 3:'Mar', 4:'Apr', 5:'May', 6:'Jun', 7:'Jul', 8:'Aug', 9:'Sept', 10:'Oct', 11:'Nov', 12:'Dec'}\n",
    "    data['monthStr'] = data.Month.map(month2str)\n",
    "    data.loc[data.PromoInterval == 0, 'PromoInterval'] = ''\n",
    "    data['IsPromoMonth'] = 0\n",
    "    for interval in data.PromoInterval.unique():\n",
    "        if interval != '':\n",
    "            for month in interval.split(','):\n",
    "                data.loc[(data.monthStr == month) & (data.PromoInterval == interval), 'IsPromoMonth'] = 1\n",
    "\n",
    "    return data"
   ]
  },
  {
   "cell_type": "code",
   "execution_count": 8,
   "metadata": {
    "application/vnd.databricks.v1+cell": {
     "cellMetadata": {
      "byteLimit": 2048000,
      "rowLimit": 10000
     },
     "inputWidgets": {},
     "nuid": "df5fead3-65df-4c34-90ee-9dd91f69103b",
     "showTitle": false,
     "title": ""
    }
   },
   "outputs": [
    {
     "data": {
      "text/html": [
       "<div>\n",
       "<style scoped>\n",
       "    .dataframe tbody tr th:only-of-type {\n",
       "        vertical-align: middle;\n",
       "    }\n",
       "\n",
       "    .dataframe tbody tr th {\n",
       "        vertical-align: top;\n",
       "    }\n",
       "\n",
       "    .dataframe thead th {\n",
       "        text-align: right;\n",
       "    }\n",
       "</style>\n",
       "<table border=\"1\" class=\"dataframe\">\n",
       "  <thead>\n",
       "    <tr style=\"text-align: right;\">\n",
       "      <th></th>\n",
       "      <th>Id</th>\n",
       "      <th>Store</th>\n",
       "      <th>DayOfWeek</th>\n",
       "      <th>Date</th>\n",
       "      <th>Open</th>\n",
       "      <th>Promo</th>\n",
       "      <th>StateHoliday</th>\n",
       "      <th>SchoolHoliday</th>\n",
       "      <th>StoreType</th>\n",
       "      <th>Assortment</th>\n",
       "      <th>...</th>\n",
       "      <th>Promo2SinceYear</th>\n",
       "      <th>PromoInterval</th>\n",
       "      <th>Year</th>\n",
       "      <th>Month</th>\n",
       "      <th>Day</th>\n",
       "      <th>WeekOfYear</th>\n",
       "      <th>CompetitionOpen</th>\n",
       "      <th>PromoOpen</th>\n",
       "      <th>monthStr</th>\n",
       "      <th>IsPromoMonth</th>\n",
       "    </tr>\n",
       "  </thead>\n",
       "  <tbody>\n",
       "    <tr>\n",
       "      <th>0</th>\n",
       "      <td>1</td>\n",
       "      <td>1</td>\n",
       "      <td>3</td>\n",
       "      <td>2015-09-17</td>\n",
       "      <td>1.0</td>\n",
       "      <td>1</td>\n",
       "      <td>0</td>\n",
       "      <td>0</td>\n",
       "      <td>3</td>\n",
       "      <td>1</td>\n",
       "      <td>...</td>\n",
       "      <td>0.0</td>\n",
       "      <td></td>\n",
       "      <td>2015</td>\n",
       "      <td>9</td>\n",
       "      <td>17</td>\n",
       "      <td>38</td>\n",
       "      <td>84.0</td>\n",
       "      <td>24189.50</td>\n",
       "      <td>Sept</td>\n",
       "      <td>0</td>\n",
       "    </tr>\n",
       "    <tr>\n",
       "      <th>1</th>\n",
       "      <td>857</td>\n",
       "      <td>1</td>\n",
       "      <td>2</td>\n",
       "      <td>2015-09-16</td>\n",
       "      <td>1.0</td>\n",
       "      <td>1</td>\n",
       "      <td>0</td>\n",
       "      <td>0</td>\n",
       "      <td>3</td>\n",
       "      <td>1</td>\n",
       "      <td>...</td>\n",
       "      <td>0.0</td>\n",
       "      <td></td>\n",
       "      <td>2015</td>\n",
       "      <td>9</td>\n",
       "      <td>16</td>\n",
       "      <td>38</td>\n",
       "      <td>84.0</td>\n",
       "      <td>24189.50</td>\n",
       "      <td>Sept</td>\n",
       "      <td>0</td>\n",
       "    </tr>\n",
       "    <tr>\n",
       "      <th>2</th>\n",
       "      <td>1713</td>\n",
       "      <td>1</td>\n",
       "      <td>1</td>\n",
       "      <td>2015-09-15</td>\n",
       "      <td>1.0</td>\n",
       "      <td>1</td>\n",
       "      <td>0</td>\n",
       "      <td>0</td>\n",
       "      <td>3</td>\n",
       "      <td>1</td>\n",
       "      <td>...</td>\n",
       "      <td>0.0</td>\n",
       "      <td></td>\n",
       "      <td>2015</td>\n",
       "      <td>9</td>\n",
       "      <td>15</td>\n",
       "      <td>38</td>\n",
       "      <td>84.0</td>\n",
       "      <td>24189.50</td>\n",
       "      <td>Sept</td>\n",
       "      <td>0</td>\n",
       "    </tr>\n",
       "    <tr>\n",
       "      <th>3</th>\n",
       "      <td>2569</td>\n",
       "      <td>1</td>\n",
       "      <td>0</td>\n",
       "      <td>2015-09-14</td>\n",
       "      <td>1.0</td>\n",
       "      <td>1</td>\n",
       "      <td>0</td>\n",
       "      <td>0</td>\n",
       "      <td>3</td>\n",
       "      <td>1</td>\n",
       "      <td>...</td>\n",
       "      <td>0.0</td>\n",
       "      <td></td>\n",
       "      <td>2015</td>\n",
       "      <td>9</td>\n",
       "      <td>14</td>\n",
       "      <td>38</td>\n",
       "      <td>84.0</td>\n",
       "      <td>24189.50</td>\n",
       "      <td>Sept</td>\n",
       "      <td>0</td>\n",
       "    </tr>\n",
       "    <tr>\n",
       "      <th>4</th>\n",
       "      <td>3425</td>\n",
       "      <td>1</td>\n",
       "      <td>6</td>\n",
       "      <td>2015-09-13</td>\n",
       "      <td>0.0</td>\n",
       "      <td>0</td>\n",
       "      <td>0</td>\n",
       "      <td>0</td>\n",
       "      <td>3</td>\n",
       "      <td>1</td>\n",
       "      <td>...</td>\n",
       "      <td>0.0</td>\n",
       "      <td></td>\n",
       "      <td>2015</td>\n",
       "      <td>9</td>\n",
       "      <td>13</td>\n",
       "      <td>37</td>\n",
       "      <td>84.0</td>\n",
       "      <td>24189.25</td>\n",
       "      <td>Sept</td>\n",
       "      <td>0</td>\n",
       "    </tr>\n",
       "    <tr>\n",
       "      <th>...</th>\n",
       "      <td>...</td>\n",
       "      <td>...</td>\n",
       "      <td>...</td>\n",
       "      <td>...</td>\n",
       "      <td>...</td>\n",
       "      <td>...</td>\n",
       "      <td>...</td>\n",
       "      <td>...</td>\n",
       "      <td>...</td>\n",
       "      <td>...</td>\n",
       "      <td>...</td>\n",
       "      <td>...</td>\n",
       "      <td>...</td>\n",
       "      <td>...</td>\n",
       "      <td>...</td>\n",
       "      <td>...</td>\n",
       "      <td>...</td>\n",
       "      <td>...</td>\n",
       "      <td>...</td>\n",
       "      <td>...</td>\n",
       "      <td>...</td>\n",
       "    </tr>\n",
       "    <tr>\n",
       "      <th>41083</th>\n",
       "      <td>37664</td>\n",
       "      <td>1115</td>\n",
       "      <td>2</td>\n",
       "      <td>2015-08-05</td>\n",
       "      <td>1.0</td>\n",
       "      <td>1</td>\n",
       "      <td>0</td>\n",
       "      <td>1</td>\n",
       "      <td>4</td>\n",
       "      <td>3</td>\n",
       "      <td>...</td>\n",
       "      <td>2012.0</td>\n",
       "      <td>Mar,Jun,Sept,Dec</td>\n",
       "      <td>2015</td>\n",
       "      <td>8</td>\n",
       "      <td>5</td>\n",
       "      <td>32</td>\n",
       "      <td>24188.0</td>\n",
       "      <td>38.50</td>\n",
       "      <td>Aug</td>\n",
       "      <td>0</td>\n",
       "    </tr>\n",
       "    <tr>\n",
       "      <th>41084</th>\n",
       "      <td>38520</td>\n",
       "      <td>1115</td>\n",
       "      <td>1</td>\n",
       "      <td>2015-08-04</td>\n",
       "      <td>1.0</td>\n",
       "      <td>1</td>\n",
       "      <td>0</td>\n",
       "      <td>1</td>\n",
       "      <td>4</td>\n",
       "      <td>3</td>\n",
       "      <td>...</td>\n",
       "      <td>2012.0</td>\n",
       "      <td>Mar,Jun,Sept,Dec</td>\n",
       "      <td>2015</td>\n",
       "      <td>8</td>\n",
       "      <td>4</td>\n",
       "      <td>32</td>\n",
       "      <td>24188.0</td>\n",
       "      <td>38.50</td>\n",
       "      <td>Aug</td>\n",
       "      <td>0</td>\n",
       "    </tr>\n",
       "    <tr>\n",
       "      <th>41085</th>\n",
       "      <td>39376</td>\n",
       "      <td>1115</td>\n",
       "      <td>0</td>\n",
       "      <td>2015-08-03</td>\n",
       "      <td>1.0</td>\n",
       "      <td>1</td>\n",
       "      <td>0</td>\n",
       "      <td>1</td>\n",
       "      <td>4</td>\n",
       "      <td>3</td>\n",
       "      <td>...</td>\n",
       "      <td>2012.0</td>\n",
       "      <td>Mar,Jun,Sept,Dec</td>\n",
       "      <td>2015</td>\n",
       "      <td>8</td>\n",
       "      <td>3</td>\n",
       "      <td>32</td>\n",
       "      <td>24188.0</td>\n",
       "      <td>38.50</td>\n",
       "      <td>Aug</td>\n",
       "      <td>0</td>\n",
       "    </tr>\n",
       "    <tr>\n",
       "      <th>41086</th>\n",
       "      <td>40232</td>\n",
       "      <td>1115</td>\n",
       "      <td>6</td>\n",
       "      <td>2015-08-02</td>\n",
       "      <td>0.0</td>\n",
       "      <td>0</td>\n",
       "      <td>0</td>\n",
       "      <td>1</td>\n",
       "      <td>4</td>\n",
       "      <td>3</td>\n",
       "      <td>...</td>\n",
       "      <td>2012.0</td>\n",
       "      <td>Mar,Jun,Sept,Dec</td>\n",
       "      <td>2015</td>\n",
       "      <td>8</td>\n",
       "      <td>2</td>\n",
       "      <td>31</td>\n",
       "      <td>24188.0</td>\n",
       "      <td>38.25</td>\n",
       "      <td>Aug</td>\n",
       "      <td>0</td>\n",
       "    </tr>\n",
       "    <tr>\n",
       "      <th>41087</th>\n",
       "      <td>41088</td>\n",
       "      <td>1115</td>\n",
       "      <td>5</td>\n",
       "      <td>2015-08-01</td>\n",
       "      <td>1.0</td>\n",
       "      <td>0</td>\n",
       "      <td>0</td>\n",
       "      <td>1</td>\n",
       "      <td>4</td>\n",
       "      <td>3</td>\n",
       "      <td>...</td>\n",
       "      <td>2012.0</td>\n",
       "      <td>Mar,Jun,Sept,Dec</td>\n",
       "      <td>2015</td>\n",
       "      <td>8</td>\n",
       "      <td>1</td>\n",
       "      <td>31</td>\n",
       "      <td>24188.0</td>\n",
       "      <td>38.25</td>\n",
       "      <td>Aug</td>\n",
       "      <td>0</td>\n",
       "    </tr>\n",
       "  </tbody>\n",
       "</table>\n",
       "<p>41088 rows × 25 columns</p>\n",
       "</div>"
      ],
      "text/plain": [
       "          Id  Store  DayOfWeek       Date  Open  Promo  StateHoliday  \\\n",
       "0          1      1          3 2015-09-17   1.0      1             0   \n",
       "1        857      1          2 2015-09-16   1.0      1             0   \n",
       "2       1713      1          1 2015-09-15   1.0      1             0   \n",
       "3       2569      1          0 2015-09-14   1.0      1             0   \n",
       "4       3425      1          6 2015-09-13   0.0      0             0   \n",
       "...      ...    ...        ...        ...   ...    ...           ...   \n",
       "41083  37664   1115          2 2015-08-05   1.0      1             0   \n",
       "41084  38520   1115          1 2015-08-04   1.0      1             0   \n",
       "41085  39376   1115          0 2015-08-03   1.0      1             0   \n",
       "41086  40232   1115          6 2015-08-02   0.0      0             0   \n",
       "41087  41088   1115          5 2015-08-01   1.0      0             0   \n",
       "\n",
       "       SchoolHoliday  StoreType  Assortment  ...  Promo2SinceYear  \\\n",
       "0                  0          3           1  ...              0.0   \n",
       "1                  0          3           1  ...              0.0   \n",
       "2                  0          3           1  ...              0.0   \n",
       "3                  0          3           1  ...              0.0   \n",
       "4                  0          3           1  ...              0.0   \n",
       "...              ...        ...         ...  ...              ...   \n",
       "41083              1          4           3  ...           2012.0   \n",
       "41084              1          4           3  ...           2012.0   \n",
       "41085              1          4           3  ...           2012.0   \n",
       "41086              1          4           3  ...           2012.0   \n",
       "41087              1          4           3  ...           2012.0   \n",
       "\n",
       "          PromoInterval  Year  Month  Day  WeekOfYear CompetitionOpen  \\\n",
       "0                        2015      9   17          38            84.0   \n",
       "1                        2015      9   16          38            84.0   \n",
       "2                        2015      9   15          38            84.0   \n",
       "3                        2015      9   14          38            84.0   \n",
       "4                        2015      9   13          37            84.0   \n",
       "...                 ...   ...    ...  ...         ...             ...   \n",
       "41083  Mar,Jun,Sept,Dec  2015      8    5          32         24188.0   \n",
       "41084  Mar,Jun,Sept,Dec  2015      8    4          32         24188.0   \n",
       "41085  Mar,Jun,Sept,Dec  2015      8    3          32         24188.0   \n",
       "41086  Mar,Jun,Sept,Dec  2015      8    2          31         24188.0   \n",
       "41087  Mar,Jun,Sept,Dec  2015      8    1          31         24188.0   \n",
       "\n",
       "       PromoOpen  monthStr  IsPromoMonth  \n",
       "0       24189.50      Sept             0  \n",
       "1       24189.50      Sept             0  \n",
       "2       24189.50      Sept             0  \n",
       "3       24189.50      Sept             0  \n",
       "4       24189.25      Sept             0  \n",
       "...          ...       ...           ...  \n",
       "41083      38.50       Aug             0  \n",
       "41084      38.50       Aug             0  \n",
       "41085      38.50       Aug             0  \n",
       "41086      38.25       Aug             0  \n",
       "41087      38.25       Aug             0  \n",
       "\n",
       "[41088 rows x 25 columns]"
      ]
     },
     "execution_count": 8,
     "metadata": {},
     "output_type": "execute_result"
    }
   ],
   "source": [
    "features_create(df_train_store)\n",
    "features_create(df_test_store)\n",
    "#features_create(train2)"
   ]
  },
  {
   "cell_type": "code",
   "execution_count": 105,
   "metadata": {
    "application/vnd.databricks.v1+cell": {
     "cellMetadata": {
      "byteLimit": 2048000,
      "rowLimit": 10000
     },
     "inputWidgets": {},
     "nuid": "a2e3d6c3-c3e7-4c8a-9cc4-fc533cf22e32",
     "showTitle": false,
     "title": ""
    }
   },
   "outputs": [],
   "source": [
    "#plotting the trends of sales, customers and sales/cutomer to check whether these trends are affected by the store type and the promotional events.\n",
    "\n",
    "#sns.factorplot(data = train2, x = 'Month', y = \"Sales\", \n",
    "#col = 'StoreType', #for different store types\n",
    "#hue = 'StoreType',\n",
    "#row = 'Promo', #for different promos\n",
    "#) "
   ]
  },
  {
   "cell_type": "code",
   "execution_count": 9,
   "metadata": {},
   "outputs": [
    {
     "data": {
      "text/plain": [
       "<AxesSubplot:>"
      ]
     },
     "execution_count": 9,
     "metadata": {},
     "output_type": "execute_result"
    },
    {
     "data": {
      "image/png": "[encoded data removed]",
      "text/plain": [
       "<Figure size 2000x1200 with 2 Axes>"
      ]
     },
     "metadata": {},
     "output_type": "display_data"
    }
   ],
   "source": [
    "plt.figure(figsize = (20,12))\n",
    "\n",
    "sns.heatmap(train2.corr(),annot = True, fmt = '.3f',vmin = -1,vmax = 1)"
   ]
  },
  {
   "cell_type": "code",
   "execution_count": 10,
   "metadata": {
    "application/vnd.databricks.v1+cell": {
     "cellMetadata": {
      "byteLimit": 2048000,
      "rowLimit": 10000
     },
     "inputWidgets": {},
     "nuid": "6701b16e-e1e6-49fc-8499-a16aacd8f80a",
     "showTitle": false,
     "title": ""
    }
   },
   "outputs": [],
   "source": [
    "train2 = train2.set_index('Date')"
   ]
  },
  {
   "cell_type": "code",
   "execution_count": 19,
   "metadata": {},
   "outputs": [],
   "source": [
    "#train2"
   ]
  },
  {
   "cell_type": "code",
   "execution_count": 11,
   "metadata": {
    "application/vnd.databricks.v1+cell": {
     "cellMetadata": {
      "byteLimit": 2048000,
      "rowLimit": 10000
     },
     "inputWidgets": {},
     "nuid": "606b961e-9d5f-45af-bea6-60c77fa992da",
     "showTitle": false,
     "title": ""
    }
   },
   "outputs": [
    {
     "data": {
      "text/html": [
       "<div>\n",
       "<style scoped>\n",
       "    .dataframe tbody tr th:only-of-type {\n",
       "        vertical-align: middle;\n",
       "    }\n",
       "\n",
       "    .dataframe tbody tr th {\n",
       "        vertical-align: top;\n",
       "    }\n",
       "\n",
       "    .dataframe thead th {\n",
       "        text-align: right;\n",
       "    }\n",
       "</style>\n",
       "<table border=\"1\" class=\"dataframe\">\n",
       "  <thead>\n",
       "    <tr style=\"text-align: right;\">\n",
       "      <th></th>\n",
       "      <th>Sales</th>\n",
       "    </tr>\n",
       "    <tr>\n",
       "      <th>Date</th>\n",
       "      <th></th>\n",
       "    </tr>\n",
       "  </thead>\n",
       "  <tbody>\n",
       "    <tr>\n",
       "      <th>2015-07-31</th>\n",
       "      <td>6064.0</td>\n",
       "    </tr>\n",
       "    <tr>\n",
       "      <th>2015-07-30</th>\n",
       "      <td>5567.0</td>\n",
       "    </tr>\n",
       "    <tr>\n",
       "      <th>2015-07-29</th>\n",
       "      <td>6402.0</td>\n",
       "    </tr>\n",
       "    <tr>\n",
       "      <th>2015-07-28</th>\n",
       "      <td>5671.0</td>\n",
       "    </tr>\n",
       "    <tr>\n",
       "      <th>2015-07-27</th>\n",
       "      <td>6627.0</td>\n",
       "    </tr>\n",
       "  </tbody>\n",
       "</table>\n",
       "</div>"
      ],
      "text/plain": [
       "             Sales\n",
       "Date              \n",
       "2015-07-31  6064.0\n",
       "2015-07-30  5567.0\n",
       "2015-07-29  6402.0\n",
       "2015-07-28  5671.0\n",
       "2015-07-27  6627.0"
      ]
     },
     "execution_count": 11,
     "metadata": {},
     "output_type": "execute_result"
    }
   ],
   "source": [
    "train2['Sales'] = train2['Sales'] * 1.0\n",
    "\n",
    "sales_a = pd.DataFrame()\n",
    "sales_a['Sales'] = train2[train2.Store == 2]['Sales']\n",
    "#sales_b = train2[train2.Store == 85]['Sales']\n",
    "#sales_c = train2[train2.Store == 1]['Sales']\n",
    "#sales_d = train2[train2.Store == 13]['Sales']\n",
    "\n",
    "# sales_a.describe()\n",
    "sales_a.head()"
   ]
  },
  {
   "cell_type": "code",
   "execution_count": 12,
   "metadata": {},
   "outputs": [
    {
     "data": {
      "text/plain": [
       "Date\n",
       "2015-07-31    6064.0\n",
       "2015-07-30    5567.0\n",
       "2015-07-29    6402.0\n",
       "2015-07-28    5671.0\n",
       "2015-07-27    6627.0\n",
       "               ...  \n",
       "2013-01-05    2342.0\n",
       "2013-01-04    4484.0\n",
       "2013-01-03    4159.0\n",
       "2013-01-02    4422.0\n",
       "2013-01-01       0.0\n",
       "Name: Sales, Length: 942, dtype: float64"
      ]
     },
     "execution_count": 12,
     "metadata": {},
     "output_type": "execute_result"
    }
   ],
   "source": [
    "sales_a['Sales']"
   ]
  },
  {
   "cell_type": "code",
   "execution_count": 29,
   "metadata": {
    "scrolled": true
   },
   "outputs": [],
   "source": [
    "# Extract the sales values as the target variable\n",
    "sales_data = sales_a['Sales'].values.reshape(-1, 1)\n",
    "#sales_data"
   ]
  },
  {
   "cell_type": "code",
   "execution_count": 28,
   "metadata": {
    "scrolled": true
   },
   "outputs": [],
   "source": [
    "# Normalize the data using Min-Max scaling\n",
    "scaler = MinMaxScaler()\n",
    "sales_data = scaler.fit_transform(sales_data)\n",
    "#sales_data"
   ]
  },
  {
   "cell_type": "code",
   "execution_count": 15,
   "metadata": {},
   "outputs": [],
   "source": [
    "# Split data into training (70%) and test (30%)\n",
    "train_size = int(0.7 * len(sales_data))\n",
    "train = sales_data[:train_size]\n",
    "#test = sales_data[train_size:]"
   ]
  },
  {
   "cell_type": "code",
   "execution_count": 16,
   "metadata": {},
   "outputs": [
    {
     "name": "stdout",
     "output_type": "stream",
     "text": [
      "(599, 60, 1)\n",
      "(942, 1) (599, 60, 1) (599,) (283, 60, 1) (283, 1)\n"
     ]
    }
   ],
   "source": [
    "        x_train = []\n",
    "        y_train = []\n",
    "\n",
    "        for i in range(60, len(train)):\n",
    "            x_train.append(train[i-60:i, 0])\n",
    "            y_train.append(train[i, 0])\n",
    "\n",
    "        x_train, y_train = np.array(x_train), np.array(y_train)\n",
    "        x_train = np.reshape(x_train, (x_train.shape[0], x_train.shape[1], 1))\n",
    "        print(x_train.shape)\n",
    "\n",
    "        test = sales_data[train_size-60:, :]\n",
    "        x_test = []\n",
    "        y_test = sales_data[train_size:]\n",
    "\n",
    "        for i in range(60, len(test)):\n",
    "            x_test.append(test[i-60:i, 0])\n",
    "\n",
    "        x_test = np.array(x_test)\n",
    "        x_test = np.reshape(x_test, (x_test.shape[0], x_test.shape[1], 1))\n",
    "        print(sales_data.shape,x_train.shape,y_train.shape,x_test.shape,y_test.shape)\n"
   ]
  },
  {
   "cell_type": "code",
   "execution_count": 17,
   "metadata": {},
   "outputs": [
    {
     "name": "stdout",
     "output_type": "stream",
     "text": [
      "Model: \"sequential\"\n",
      "_________________________________________________________________\n",
      " Layer (type)                Output Shape              Param #   \n",
      "=================================================================\n",
      " lstm (LSTM)                 (None, 60, 50)            10400     \n",
      "                                                                 \n",
      " lstm_1 (LSTM)               (None, 50)                20200     \n",
      "                                                                 \n",
      " dense (Dense)               (None, 15)                765       \n",
      "                                                                 \n",
      " dense_1 (Dense)             (None, 1)                 16        \n",
      "                                                                 \n",
      "=================================================================\n",
      "Total params: 31381 (122.58 KB)\n",
      "Trainable params: 31381 (122.58 KB)\n",
      "Non-trainable params: 0 (0.00 Byte)\n",
      "_________________________________________________________________\n"
     ]
    }
   ],
   "source": [
    "# Build an LSTM model\n",
    "model = keras.Sequential()\n",
    "model.add(layers.LSTM(50, return_sequences=True, input_shape=(60, 1)))\n",
    "model.add(layers.LSTM(50, return_sequences=False))\n",
    "model.add(layers.Dense(15))\n",
    "model.add(layers.Dense(1))\n",
    "model.summary()"
   ]
  },
  {
   "cell_type": "code",
   "execution_count": 18,
   "metadata": {},
   "outputs": [
    {
     "name": "stdout",
     "output_type": "stream",
     "text": [
      "Epoch 1/10\n",
      "10/10 - 6s - loss: 0.0769 - 6s/epoch - 588ms/step\n",
      "Epoch 2/10\n",
      "10/10 - 1s - loss: 0.0628 - 613ms/epoch - 61ms/step\n",
      "Epoch 3/10\n",
      "10/10 - 1s - loss: 0.0563 - 623ms/epoch - 62ms/step\n",
      "Epoch 4/10\n",
      "10/10 - 1s - loss: 0.0551 - 639ms/epoch - 64ms/step\n",
      "Epoch 5/10\n",
      "10/10 - 1s - loss: 0.0546 - 623ms/epoch - 62ms/step\n",
      "Epoch 6/10\n",
      "10/10 - 1s - loss: 0.0539 - 637ms/epoch - 64ms/step\n",
      "Epoch 7/10\n",
      "10/10 - 1s - loss: 0.0538 - 630ms/epoch - 63ms/step\n",
      "Epoch 8/10\n",
      "10/10 - 1s - loss: 0.0535 - 621ms/epoch - 62ms/step\n",
      "Epoch 9/10\n",
      "10/10 - 1s - loss: 0.0527 - 616ms/epoch - 62ms/step\n",
      "Epoch 10/10\n",
      "10/10 - 1s - loss: 0.0530 - 619ms/epoch - 62ms/step\n"
     ]
    },
    {
     "data": {
      "text/plain": [
       "<keras.src.callbacks.History at 0x20ea5617d90>"
      ]
     },
     "execution_count": 18,
     "metadata": {},
     "output_type": "execute_result"
    }
   ],
   "source": [
    "# Train the model\n",
    "model.compile(optimizer='adam', loss='mean_squared_error')\n",
    "model.fit(x_train, y_train, epochs=10, batch_size=64,verbose = 2)"
   ]
  },
  {
   "cell_type": "code",
   "execution_count": 19,
   "metadata": {},
   "outputs": [
    {
     "name": "stdout",
     "output_type": "stream",
     "text": [
      "9/9 [==============================] - 1s 21ms/step\n"
     ]
    }
   ],
   "source": [
    "predictions = model.predict(x_test)"
   ]
  },
  {
   "cell_type": "code",
   "execution_count": 20,
   "metadata": {},
   "outputs": [
    {
     "data": {
      "text/plain": [
       "((283, 1), (283, 1))"
      ]
     },
     "execution_count": 20,
     "metadata": {},
     "output_type": "execute_result"
    }
   ],
   "source": [
    "predictions.shape,y_test.shape"
   ]
  },
  {
   "cell_type": "code",
   "execution_count": 25,
   "metadata": {
    "scrolled": true
   },
   "outputs": [],
   "source": [
    "#predictions, y_test"
   ]
  },
  {
   "cell_type": "code",
   "execution_count": 26,
   "metadata": {},
   "outputs": [],
   "source": [
    "prediction1 = predictions\n",
    "y_pred = scaler.inverse_transform(prediction1)\n",
    "#y_pred.shape,y_pred"
   ]
  },
  {
   "cell_type": "code",
   "execution_count": 27,
   "metadata": {},
   "outputs": [],
   "source": [
    "y_test_1 = y_test\n",
    "y_test_1 = scaler.inverse_transform(y_test_1.reshape(-1, 1))\n",
    "#y_test_1.shape,y_test_1"
   ]
  },
  {
   "cell_type": "code",
   "execution_count": 24,
   "metadata": {},
   "outputs": [
    {
     "data": {
      "text/plain": [
       "157.7961348139355"
      ]
     },
     "execution_count": 24,
     "metadata": {},
     "output_type": "execute_result"
    }
   ],
   "source": [
    " rmse = np.sqrt(np.mean(y_pred - y_test_1) ** 2)\n",
    " rmse"
   ]
  },
  {
   "cell_type": "code",
   "execution_count": 37,
   "metadata": {},
   "outputs": [
    {
     "name": "stdout",
     "output_type": "stream",
     "text": [
      "             Predictions    Actual\n",
      "0     [3911.14990234375]  [4972.0]\n",
      "1    [3908.041748046875]  [7006.0]\n",
      "2      [3915.8388671875]  [6282.0]\n",
      "3     [3927.39111328125]  [7368.0]\n",
      "4     [3950.64013671875]     [0.0]\n",
      "..                   ...       ...\n",
      "278   [3898.94677734375]  [2342.0]\n",
      "279   [3907.64990234375]  [4484.0]\n",
      "280    [3924.9306640625]  [4159.0]\n",
      "281      [3940.16015625]  [4422.0]\n",
      "282  [3953.526611328125]     [0.0]\n",
      "\n",
      "[283 rows x 2 columns]\n"
     ]
    }
   ],
   "source": [
    "predictions_list = y_pred.tolist()\n",
    "Actual = y_test_1.tolist()\n",
    "df = pd.DataFrame({'Predictions': predictions_list, 'Actual': Actual})\n",
    "print(df)"
   ]
  },
  {
   "cell_type": "code",
   "execution_count": null,
   "metadata": {},
   "outputs": [],
   "source": []
  },
  {
   "cell_type": "code",
   "execution_count": null,
   "metadata": {},
   "outputs": [],
   "source": []
  },
  {
   "cell_type": "code",
   "execution_count": null,
   "metadata": {},
   "outputs": [],
   "source": []
  }
 ],
 "metadata": {
  "application/vnd.databricks.v1+notebook": {
   "dashboards": [],
   "language": "python",
   "notebookMetadata": {
    "mostRecentlyExecutedCommandWithImplicitDF": {
     "commandId": 2682025375987489,
     "dataframes": [
      "_sqldf"
     ]
    },
    "pythonIndentUnit": 4
   },
   "notebookName": "Rossmann Store Sales Forecast",
   "widgets": {}
  },
  "kernelspec": {
   "display_name": "Python 3 (ipykernel)",
   "language": "python",
   "name": "python3"
  },
  "language_info": {
   "codemirror_mode": {
    "name": "ipython",
    "version": 3
   },
   "file_extension": ".py",
   "mimetype": "text/x-python",
   "name": "python",
   "nbconvert_exporter": "python",
   "pygments_lexer": "ipython3",
   "version": "3.9.13"
  }
 },
 "nbformat": 4,
 "nbformat_minor": 1
}
